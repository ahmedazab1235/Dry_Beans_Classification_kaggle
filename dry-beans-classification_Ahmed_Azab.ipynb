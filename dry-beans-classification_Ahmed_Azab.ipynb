{
 "cells": [
  {
   "cell_type": "code",
   "execution_count": 1,
   "id": "9d57b284",
   "metadata": {
    "_cell_guid": "b1076dfc-b9ad-4769-8c92-a6c4dae69d19",
    "_uuid": "8f2839f25d086af736a60e9eeb907d3b93b6e0e5",
    "execution": {
     "iopub.execute_input": "2021-09-29T19:59:38.357433Z",
     "iopub.status.busy": "2021-09-29T19:59:38.355541Z",
     "iopub.status.idle": "2021-09-29T19:59:38.436720Z",
     "shell.execute_reply": "2021-09-29T19:59:38.435663Z",
     "shell.execute_reply.started": "2021-09-29T19:31:57.659644Z"
    },
    "papermill": {
     "duration": 0.153947,
     "end_time": "2021-09-29T19:59:38.436886",
     "exception": false,
     "start_time": "2021-09-29T19:59:38.282939",
     "status": "completed"
    },
    "tags": []
   },
   "outputs": [
    {
     "name": "stdout",
     "output_type": "stream",
     "text": [
      "/kaggle/input/dry-beans-classification-iti-ai-pro-intake01/sample_submission.csv\n",
      "/kaggle/input/dry-beans-classification-iti-ai-pro-intake01/train.csv\n",
      "/kaggle/input/dry-beans-classification-iti-ai-pro-intake01/test.csv\n"
     ]
    }
   ],
   "source": [
    "# This Python 3 environment comes with many helpful analytics libraries installed\n",
    "# It is defined by the kaggle/python Docker image: https://github.com/kaggle/docker-python\n",
    "# For example, here's several helpful packages to load\n",
    "\n",
    "import numpy as np # linear algebra\n",
    "import pandas as pd # data processing, CSV file I/O (e.g. pd.read_csv)\n",
    "\n",
    "# Input data files are available in the read-only \"../input/\" directory\n",
    "# For example, running this (by clicking run or pressing Shift+Enter) will list all files under the input directory\n",
    "\n",
    "import os\n",
    "for dirname, _, filenames in os.walk('/kaggle/input'):\n",
    "    for filename in filenames:\n",
    "        print(os.path.join(dirname, filename))\n",
    "\n",
    "# You can write up to 20GB to the current directory (/kaggle/working/) that gets preserved as output when you create a version using \"Save & Run All\" \n",
    "# You can also write temporary files to /kaggle/temp/, but they won't be saved outside of the current session"
   ]
  },
  {
   "cell_type": "code",
   "execution_count": 2,
   "id": "e0a82556",
   "metadata": {
    "execution": {
     "iopub.execute_input": "2021-09-29T19:59:38.594952Z",
     "iopub.status.busy": "2021-09-29T19:59:38.575602Z",
     "iopub.status.idle": "2021-09-29T19:59:45.192289Z",
     "shell.execute_reply": "2021-09-29T19:59:45.192775Z",
     "shell.execute_reply.started": "2021-09-29T19:32:37.122914Z"
    },
    "papermill": {
     "duration": 6.700018,
     "end_time": "2021-09-29T19:59:45.192957",
     "exception": false,
     "start_time": "2021-09-29T19:59:38.492939",
     "status": "completed"
    },
    "tags": []
   },
   "outputs": [],
   "source": [
    "# Most Important \n",
    "import numpy as np\n",
    "import pandas as pd\n",
    "import matplotlib.pyplot as plt\n",
    "%matplotlib inline\n",
    "import seaborn as sns\n",
    "from scipy.stats import spearmanr, kendalltau\n",
    "\n",
    "\n",
    "# other\n",
    "import missingno as msno\n",
    "import os\n",
    "import joblib\n",
    "import tarfile\n",
    "import urllib\n",
    "\n",
    "## SKlearn\n",
    "import xgboost as xgb\n",
    "from sklearn import datasets\n",
    "\n",
    "from keras.utils import np_utils\n",
    "# Metrics\n",
    "from sklearn.metrics import r2_score, accuracy_score\n",
    "from sklearn.metrics import roc_auc_score, roc_curve, classification_report\n",
    "from sklearn.metrics import precision_score, recall_score\n",
    "from sklearn.metrics import precision_recall_curve, confusion_matrix , f1_score\n",
    "\n",
    "# Preprocessing & Imputing\n",
    "from sklearn.preprocessing import StandardScaler, MinMaxScaler, OneHotEncoder, LabelEncoder, PolynomialFeatures\n",
    "from sklearn.pipeline import Pipeline\n",
    "from sklearn.impute import SimpleImputer\n",
    "from sklearn.compose import ColumnTransformer\n",
    "from sklearn.decomposition import PCA\n",
    "\n",
    "# Validating and Tuning\n",
    "from sklearn.model_selection import train_test_split, StratifiedShuffleSplit \n",
    "from sklearn.model_selection import cross_val_score, cross_val_predict\n",
    "from sklearn.model_selection import GridSearchCV, RandomizedSearchCV\n",
    "\n",
    "## Algorithms\n",
    "from sklearn.neighbors import KNeighborsClassifier\n",
    "from sklearn.linear_model import SGDClassifier, LogisticRegression\n",
    "from sklearn.tree import DecisionTreeClassifier\n",
    "from sklearn.svm import SVC\n",
    "from sklearn.ensemble import RandomForestClassifier, AdaBoostClassifier\n",
    "from sklearn.ensemble import VotingClassifier , BaggingClassifier\n",
    "\n",
    "\n",
    "### Tensorflow and Keras\n",
    "from tensorflow.keras.layers import Dense, Dropout, Flatten, Conv2D, MaxPool2D\n",
    "from tensorflow.keras.models import Sequential\n",
    "from tensorflow.keras import optimizers\n",
    "from tensorflow.keras.utils import to_categorical\n",
    "from tensorflow.keras.callbacks import EarlyStopping\n",
    "from tensorflow.keras import regularizers\n",
    "\n",
    "from xgboost import XGBClassifier\n",
    "\n",
    "from numpy import nan\n",
    "\n",
    "from sklearn.neural_network import MLPClassifier\n",
    "\n",
    "from sklearn.multiclass import OneVsRestClassifier\n"
   ]
  },
  {
   "cell_type": "markdown",
   "id": "7da10222",
   "metadata": {
    "execution": {
     "iopub.status.idle": "2021-09-10T21:01:02.980028Z",
     "shell.execute_reply": "2021-09-10T21:01:02.978952Z",
     "shell.execute_reply.started": "2021-09-10T21:00:52.957437Z"
    },
    "papermill": {
     "duration": 0.056567,
     "end_time": "2021-09-29T19:59:45.306390",
     "exception": false,
     "start_time": "2021-09-29T19:59:45.249823",
     "status": "completed"
    },
    "tags": []
   },
   "source": [
    "`Features`\n",
    "* ID - an ID for this instance\n",
    "* Area - (A), The area of a bean zone and the number of pixels within its boundaries.\n",
    "* Perimeter - (P), Bean circumference is defined as the length of its border.\n",
    "* MajorAxisLength - (L), The distance between the ends of the longest line that can be drawn from a bean.\n",
    "* MinorAxisLength - (l), The longest line that can be drawn from the bean while standing perpendicular to the main axis.\n",
    "* AspectRatio - (K), Defines the relationship between L and l. ===> `Delete that (correlated)`\n",
    "* Eccentricity - (Ec), Eccentricity of the ellipse having the same moments as the region.\n",
    "* ConvexArea - (C), Number of pixels in the smallest convex polygon that can contain the area of a bean seed.\n",
    "* EquivDiameter - (Ed), The diameter of a circle having the same area as a bean seed area.\n",
    "* Extent - (Ex), The ratio of the pixels in the bounding box to the bean area.\n",
    "* Solidity - (S), Also known as convexity. The ratio of the pixels in the convex shell to those found in beans.\n",
    "* Roundness - (R), Calculated with the following formula: (4piA)/(P^2) ===> `Delete that (correlated)`\n",
    "* Compactness - (CO), Measures the roundness of an object: Ed/L  ===> `Delete that (correlated)`\n",
    "* ShapeFactor1 - (SF1)\n",
    "* ShapeFactor2 - (SF2)\n",
    "* ShapeFactor3 - (SF3)\n",
    "* ShapeFactor4 - (SF4)\n",
    "\n",
    "`target`\n",
    "* y - the class of the bean. It can be any of BARBUNYA, SIRA, HOROZ, DERMASON, CALI, BOMBAY, and SEKER.\n"
   ]
  },
  {
   "cell_type": "code",
   "execution_count": 3,
   "id": "bbaad7d4",
   "metadata": {
    "execution": {
     "iopub.execute_input": "2021-09-29T19:59:45.419914Z",
     "iopub.status.busy": "2021-09-29T19:59:45.419026Z",
     "iopub.status.idle": "2021-09-29T19:59:45.534044Z",
     "shell.execute_reply": "2021-09-29T19:59:45.532915Z",
     "shell.execute_reply.started": "2021-09-29T19:32:37.839325Z"
    },
    "papermill": {
     "duration": 0.174208,
     "end_time": "2021-09-29T19:59:45.534251",
     "exception": false,
     "start_time": "2021-09-29T19:59:45.360043",
     "status": "completed"
    },
    "tags": []
   },
   "outputs": [
    {
     "data": {
      "text/html": [
       "<div>\n",
       "<style scoped>\n",
       "    .dataframe tbody tr th:only-of-type {\n",
       "        vertical-align: middle;\n",
       "    }\n",
       "\n",
       "    .dataframe tbody tr th {\n",
       "        vertical-align: top;\n",
       "    }\n",
       "\n",
       "    .dataframe thead th {\n",
       "        text-align: right;\n",
       "    }\n",
       "</style>\n",
       "<table border=\"1\" class=\"dataframe\">\n",
       "  <thead>\n",
       "    <tr style=\"text-align: right;\">\n",
       "      <th></th>\n",
       "      <th>ID</th>\n",
       "      <th>Area</th>\n",
       "      <th>Perimeter</th>\n",
       "      <th>MajorAxisLength</th>\n",
       "      <th>MinorAxisLength</th>\n",
       "      <th>AspectRation</th>\n",
       "      <th>Eccentricity</th>\n",
       "      <th>ConvexArea</th>\n",
       "      <th>EquivDiameter</th>\n",
       "      <th>Extent</th>\n",
       "      <th>Solidity</th>\n",
       "      <th>roundness</th>\n",
       "      <th>Compactness</th>\n",
       "      <th>ShapeFactor1</th>\n",
       "      <th>ShapeFactor2</th>\n",
       "      <th>ShapeFactor3</th>\n",
       "      <th>ShapeFactor4</th>\n",
       "      <th>y</th>\n",
       "    </tr>\n",
       "  </thead>\n",
       "  <tbody>\n",
       "    <tr>\n",
       "      <th>0</th>\n",
       "      <td>0</td>\n",
       "      <td>58238</td>\n",
       "      <td>971.303</td>\n",
       "      <td>397.202654</td>\n",
       "      <td>186.945510</td>\n",
       "      <td>2.124697</td>\n",
       "      <td>0.882317</td>\n",
       "      <td>58977</td>\n",
       "      <td>272.306674</td>\n",
       "      <td>0.604756</td>\n",
       "      <td>0.987470</td>\n",
       "      <td>0.775723</td>\n",
       "      <td>0.685561</td>\n",
       "      <td>0.006820</td>\n",
       "      <td>0.000929</td>\n",
       "      <td>0.469994</td>\n",
       "      <td>0.998595</td>\n",
       "      <td>HOROZ</td>\n",
       "    </tr>\n",
       "    <tr>\n",
       "      <th>1</th>\n",
       "      <td>1</td>\n",
       "      <td>44515</td>\n",
       "      <td>757.601</td>\n",
       "      <td>265.590470</td>\n",
       "      <td>213.967453</td>\n",
       "      <td>1.241266</td>\n",
       "      <td>0.592420</td>\n",
       "      <td>44780</td>\n",
       "      <td>238.071960</td>\n",
       "      <td>0.771745</td>\n",
       "      <td>0.994082</td>\n",
       "      <td>0.974620</td>\n",
       "      <td>0.896387</td>\n",
       "      <td>0.005966</td>\n",
       "      <td>0.002376</td>\n",
       "      <td>0.803510</td>\n",
       "      <td>0.997370</td>\n",
       "      <td>SEKER</td>\n",
       "    </tr>\n",
       "    <tr>\n",
       "      <th>2</th>\n",
       "      <td>2</td>\n",
       "      <td>31662</td>\n",
       "      <td>653.783</td>\n",
       "      <td>239.902428</td>\n",
       "      <td>168.421505</td>\n",
       "      <td>1.424417</td>\n",
       "      <td>0.712136</td>\n",
       "      <td>32034</td>\n",
       "      <td>200.781748</td>\n",
       "      <td>0.801407</td>\n",
       "      <td>0.988387</td>\n",
       "      <td>0.930853</td>\n",
       "      <td>0.836931</td>\n",
       "      <td>0.007577</td>\n",
       "      <td>0.002293</td>\n",
       "      <td>0.700453</td>\n",
       "      <td>0.997737</td>\n",
       "      <td>DERMASON</td>\n",
       "    </tr>\n",
       "    <tr>\n",
       "      <th>3</th>\n",
       "      <td>3</td>\n",
       "      <td>38778</td>\n",
       "      <td>734.020</td>\n",
       "      <td>268.446281</td>\n",
       "      <td>184.061923</td>\n",
       "      <td>1.458456</td>\n",
       "      <td>0.727925</td>\n",
       "      <td>39208</td>\n",
       "      <td>222.201897</td>\n",
       "      <td>0.766137</td>\n",
       "      <td>0.989033</td>\n",
       "      <td>0.904439</td>\n",
       "      <td>0.827733</td>\n",
       "      <td>0.006923</td>\n",
       "      <td>0.002005</td>\n",
       "      <td>0.685142</td>\n",
       "      <td>0.999250</td>\n",
       "      <td>DERMASON</td>\n",
       "    </tr>\n",
       "    <tr>\n",
       "      <th>4</th>\n",
       "      <td>4</td>\n",
       "      <td>42530</td>\n",
       "      <td>775.403</td>\n",
       "      <td>281.212824</td>\n",
       "      <td>193.236878</td>\n",
       "      <td>1.455275</td>\n",
       "      <td>0.726511</td>\n",
       "      <td>43028</td>\n",
       "      <td>232.703412</td>\n",
       "      <td>0.729816</td>\n",
       "      <td>0.988426</td>\n",
       "      <td>0.888895</td>\n",
       "      <td>0.827499</td>\n",
       "      <td>0.006612</td>\n",
       "      <td>0.001912</td>\n",
       "      <td>0.684755</td>\n",
       "      <td>0.996507</td>\n",
       "      <td>SIRA</td>\n",
       "    </tr>\n",
       "  </tbody>\n",
       "</table>\n",
       "</div>"
      ],
      "text/plain": [
       "   ID   Area  Perimeter  MajorAxisLength  MinorAxisLength  AspectRation  \\\n",
       "0   0  58238    971.303       397.202654       186.945510      2.124697   \n",
       "1   1  44515    757.601       265.590470       213.967453      1.241266   \n",
       "2   2  31662    653.783       239.902428       168.421505      1.424417   \n",
       "3   3  38778    734.020       268.446281       184.061923      1.458456   \n",
       "4   4  42530    775.403       281.212824       193.236878      1.455275   \n",
       "\n",
       "   Eccentricity  ConvexArea  EquivDiameter    Extent  Solidity  roundness  \\\n",
       "0      0.882317       58977     272.306674  0.604756  0.987470   0.775723   \n",
       "1      0.592420       44780     238.071960  0.771745  0.994082   0.974620   \n",
       "2      0.712136       32034     200.781748  0.801407  0.988387   0.930853   \n",
       "3      0.727925       39208     222.201897  0.766137  0.989033   0.904439   \n",
       "4      0.726511       43028     232.703412  0.729816  0.988426   0.888895   \n",
       "\n",
       "   Compactness  ShapeFactor1  ShapeFactor2  ShapeFactor3  ShapeFactor4  \\\n",
       "0     0.685561      0.006820      0.000929      0.469994      0.998595   \n",
       "1     0.896387      0.005966      0.002376      0.803510      0.997370   \n",
       "2     0.836931      0.007577      0.002293      0.700453      0.997737   \n",
       "3     0.827733      0.006923      0.002005      0.685142      0.999250   \n",
       "4     0.827499      0.006612      0.001912      0.684755      0.996507   \n",
       "\n",
       "          y  \n",
       "0     HOROZ  \n",
       "1     SEKER  \n",
       "2  DERMASON  \n",
       "3  DERMASON  \n",
       "4      SIRA  "
      ]
     },
     "execution_count": 3,
     "metadata": {},
     "output_type": "execute_result"
    }
   ],
   "source": [
    "## Loading the Dataset\n",
    "\n",
    "train_data = pd.read_csv('../input/dry-beans-classification-iti-ai-pro-intake01/train.csv')\n",
    "\n",
    "train_data.head()"
   ]
  },
  {
   "cell_type": "code",
   "execution_count": 4,
   "id": "0841f102",
   "metadata": {
    "execution": {
     "iopub.execute_input": "2021-09-29T19:59:45.653645Z",
     "iopub.status.busy": "2021-09-29T19:59:45.652498Z",
     "iopub.status.idle": "2021-09-29T19:59:45.673148Z",
     "shell.execute_reply": "2021-09-29T19:59:45.674094Z",
     "shell.execute_reply.started": "2021-09-29T19:32:38.248797Z"
    },
    "papermill": {
     "duration": 0.083957,
     "end_time": "2021-09-29T19:59:45.674356",
     "exception": false,
     "start_time": "2021-09-29T19:59:45.590399",
     "status": "completed"
    },
    "tags": []
   },
   "outputs": [
    {
     "name": "stdout",
     "output_type": "stream",
     "text": [
      "<class 'pandas.core.frame.DataFrame'>\n",
      "RangeIndex: 10834 entries, 0 to 10833\n",
      "Data columns (total 18 columns):\n",
      " #   Column           Non-Null Count  Dtype  \n",
      "---  ------           --------------  -----  \n",
      " 0   ID               10834 non-null  int64  \n",
      " 1   Area             10834 non-null  int64  \n",
      " 2   Perimeter        10834 non-null  float64\n",
      " 3   MajorAxisLength  10834 non-null  float64\n",
      " 4   MinorAxisLength  10834 non-null  float64\n",
      " 5   AspectRation     10834 non-null  float64\n",
      " 6   Eccentricity     10834 non-null  float64\n",
      " 7   ConvexArea       10834 non-null  int64  \n",
      " 8   EquivDiameter    10834 non-null  float64\n",
      " 9   Extent           10834 non-null  float64\n",
      " 10  Solidity         10834 non-null  float64\n",
      " 11  roundness        10834 non-null  float64\n",
      " 12  Compactness      10834 non-null  float64\n",
      " 13  ShapeFactor1     10834 non-null  float64\n",
      " 14  ShapeFactor2     10834 non-null  float64\n",
      " 15  ShapeFactor3     10834 non-null  float64\n",
      " 16  ShapeFactor4     10834 non-null  float64\n",
      " 17  y                10834 non-null  object \n",
      "dtypes: float64(14), int64(3), object(1)\n",
      "memory usage: 1.5+ MB\n"
     ]
    }
   ],
   "source": [
    "## show the datatypes and null of the data\n",
    "train_data.info()  ## seems good"
   ]
  },
  {
   "cell_type": "code",
   "execution_count": 5,
   "id": "489a4340",
   "metadata": {
    "execution": {
     "iopub.execute_input": "2021-09-29T19:59:45.797430Z",
     "iopub.status.busy": "2021-09-29T19:59:45.796287Z",
     "iopub.status.idle": "2021-09-29T19:59:45.865562Z",
     "shell.execute_reply": "2021-09-29T19:59:45.865996Z",
     "shell.execute_reply.started": "2021-09-29T19:32:38.578079Z"
    },
    "papermill": {
     "duration": 0.136481,
     "end_time": "2021-09-29T19:59:45.866142",
     "exception": false,
     "start_time": "2021-09-29T19:59:45.729661",
     "status": "completed"
    },
    "tags": []
   },
   "outputs": [
    {
     "data": {
      "text/html": [
       "<div>\n",
       "<style scoped>\n",
       "    .dataframe tbody tr th:only-of-type {\n",
       "        vertical-align: middle;\n",
       "    }\n",
       "\n",
       "    .dataframe tbody tr th {\n",
       "        vertical-align: top;\n",
       "    }\n",
       "\n",
       "    .dataframe thead th {\n",
       "        text-align: right;\n",
       "    }\n",
       "</style>\n",
       "<table border=\"1\" class=\"dataframe\">\n",
       "  <thead>\n",
       "    <tr style=\"text-align: right;\">\n",
       "      <th></th>\n",
       "      <th>ID</th>\n",
       "      <th>Area</th>\n",
       "      <th>Perimeter</th>\n",
       "      <th>MajorAxisLength</th>\n",
       "      <th>MinorAxisLength</th>\n",
       "      <th>AspectRation</th>\n",
       "      <th>Eccentricity</th>\n",
       "      <th>ConvexArea</th>\n",
       "      <th>EquivDiameter</th>\n",
       "      <th>Extent</th>\n",
       "      <th>Solidity</th>\n",
       "      <th>roundness</th>\n",
       "      <th>Compactness</th>\n",
       "      <th>ShapeFactor1</th>\n",
       "      <th>ShapeFactor2</th>\n",
       "      <th>ShapeFactor3</th>\n",
       "      <th>ShapeFactor4</th>\n",
       "    </tr>\n",
       "  </thead>\n",
       "  <tbody>\n",
       "    <tr>\n",
       "      <th>count</th>\n",
       "      <td>10834.000000</td>\n",
       "      <td>10834.000000</td>\n",
       "      <td>10834.000000</td>\n",
       "      <td>10834.000000</td>\n",
       "      <td>10834.000000</td>\n",
       "      <td>10834.000000</td>\n",
       "      <td>10834.000000</td>\n",
       "      <td>10834.000000</td>\n",
       "      <td>10834.000000</td>\n",
       "      <td>10834.000000</td>\n",
       "      <td>10834.000000</td>\n",
       "      <td>10834.000000</td>\n",
       "      <td>10834.000000</td>\n",
       "      <td>10834.000000</td>\n",
       "      <td>10834.000000</td>\n",
       "      <td>10834.000000</td>\n",
       "      <td>10834.000000</td>\n",
       "    </tr>\n",
       "    <tr>\n",
       "      <th>mean</th>\n",
       "      <td>5416.500000</td>\n",
       "      <td>53095.675189</td>\n",
       "      <td>855.274892</td>\n",
       "      <td>320.036169</td>\n",
       "      <td>202.410342</td>\n",
       "      <td>1.581294</td>\n",
       "      <td>0.750588</td>\n",
       "      <td>53816.205926</td>\n",
       "      <td>253.123583</td>\n",
       "      <td>0.749937</td>\n",
       "      <td>0.987152</td>\n",
       "      <td>0.873647</td>\n",
       "      <td>0.800244</td>\n",
       "      <td>0.006559</td>\n",
       "      <td>0.001718</td>\n",
       "      <td>0.644139</td>\n",
       "      <td>0.995083</td>\n",
       "    </tr>\n",
       "    <tr>\n",
       "      <th>std</th>\n",
       "      <td>3127.650742</td>\n",
       "      <td>29542.542580</td>\n",
       "      <td>214.991122</td>\n",
       "      <td>85.961630</td>\n",
       "      <td>45.113965</td>\n",
       "      <td>0.244314</td>\n",
       "      <td>0.091481</td>\n",
       "      <td>29999.710739</td>\n",
       "      <td>59.433080</td>\n",
       "      <td>0.048949</td>\n",
       "      <td>0.004626</td>\n",
       "      <td>0.059344</td>\n",
       "      <td>0.061228</td>\n",
       "      <td>0.001127</td>\n",
       "      <td>0.000593</td>\n",
       "      <td>0.098268</td>\n",
       "      <td>0.004306</td>\n",
       "    </tr>\n",
       "    <tr>\n",
       "      <th>min</th>\n",
       "      <td>0.000000</td>\n",
       "      <td>20420.000000</td>\n",
       "      <td>524.932000</td>\n",
       "      <td>183.601165</td>\n",
       "      <td>129.576207</td>\n",
       "      <td>1.024868</td>\n",
       "      <td>0.218951</td>\n",
       "      <td>20684.000000</td>\n",
       "      <td>161.243764</td>\n",
       "      <td>0.555315</td>\n",
       "      <td>0.919246</td>\n",
       "      <td>0.489618</td>\n",
       "      <td>0.645368</td>\n",
       "      <td>0.002856</td>\n",
       "      <td>0.000564</td>\n",
       "      <td>0.416499</td>\n",
       "      <td>0.947687</td>\n",
       "    </tr>\n",
       "    <tr>\n",
       "      <th>25%</th>\n",
       "      <td>2708.250000</td>\n",
       "      <td>36343.500000</td>\n",
       "      <td>703.601250</td>\n",
       "      <td>253.501071</td>\n",
       "      <td>175.927024</td>\n",
       "      <td>1.432985</td>\n",
       "      <td>0.716250</td>\n",
       "      <td>36731.250000</td>\n",
       "      <td>215.113880</td>\n",
       "      <td>0.718778</td>\n",
       "      <td>0.985627</td>\n",
       "      <td>0.833479</td>\n",
       "      <td>0.763378</td>\n",
       "      <td>0.005888</td>\n",
       "      <td>0.001161</td>\n",
       "      <td>0.582747</td>\n",
       "      <td>0.993690</td>\n",
       "    </tr>\n",
       "    <tr>\n",
       "      <th>50%</th>\n",
       "      <td>5416.500000</td>\n",
       "      <td>44645.000000</td>\n",
       "      <td>793.739500</td>\n",
       "      <td>296.377365</td>\n",
       "      <td>192.525040</td>\n",
       "      <td>1.550761</td>\n",
       "      <td>0.764314</td>\n",
       "      <td>45148.000000</td>\n",
       "      <td>238.419335</td>\n",
       "      <td>0.760141</td>\n",
       "      <td>0.988290</td>\n",
       "      <td>0.883472</td>\n",
       "      <td>0.801428</td>\n",
       "      <td>0.006643</td>\n",
       "      <td>0.001700</td>\n",
       "      <td>0.642287</td>\n",
       "      <td>0.996397</td>\n",
       "    </tr>\n",
       "    <tr>\n",
       "      <th>75%</th>\n",
       "      <td>8124.750000</td>\n",
       "      <td>61295.000000</td>\n",
       "      <td>975.517500</td>\n",
       "      <td>376.068399</td>\n",
       "      <td>217.315195</td>\n",
       "      <td>1.703029</td>\n",
       "      <td>0.809450</td>\n",
       "      <td>62251.500000</td>\n",
       "      <td>279.362162</td>\n",
       "      <td>0.786871</td>\n",
       "      <td>0.990014</td>\n",
       "      <td>0.916883</td>\n",
       "      <td>0.834068</td>\n",
       "      <td>0.007268</td>\n",
       "      <td>0.002169</td>\n",
       "      <td>0.695670</td>\n",
       "      <td>0.997895</td>\n",
       "    </tr>\n",
       "    <tr>\n",
       "      <th>max</th>\n",
       "      <td>10833.000000</td>\n",
       "      <td>254616.000000</td>\n",
       "      <td>1985.370000</td>\n",
       "      <td>738.860153</td>\n",
       "      <td>450.926187</td>\n",
       "      <td>2.388873</td>\n",
       "      <td>0.908167</td>\n",
       "      <td>263261.000000</td>\n",
       "      <td>569.374358</td>\n",
       "      <td>0.866195</td>\n",
       "      <td>0.994677</td>\n",
       "      <td>0.990685</td>\n",
       "      <td>0.987303</td>\n",
       "      <td>0.009897</td>\n",
       "      <td>0.003665</td>\n",
       "      <td>0.974767</td>\n",
       "      <td>0.999733</td>\n",
       "    </tr>\n",
       "  </tbody>\n",
       "</table>\n",
       "</div>"
      ],
      "text/plain": [
       "                 ID           Area     Perimeter  MajorAxisLength  \\\n",
       "count  10834.000000   10834.000000  10834.000000     10834.000000   \n",
       "mean    5416.500000   53095.675189    855.274892       320.036169   \n",
       "std     3127.650742   29542.542580    214.991122        85.961630   \n",
       "min        0.000000   20420.000000    524.932000       183.601165   \n",
       "25%     2708.250000   36343.500000    703.601250       253.501071   \n",
       "50%     5416.500000   44645.000000    793.739500       296.377365   \n",
       "75%     8124.750000   61295.000000    975.517500       376.068399   \n",
       "max    10833.000000  254616.000000   1985.370000       738.860153   \n",
       "\n",
       "       MinorAxisLength  AspectRation  Eccentricity     ConvexArea  \\\n",
       "count     10834.000000  10834.000000  10834.000000   10834.000000   \n",
       "mean        202.410342      1.581294      0.750588   53816.205926   \n",
       "std          45.113965      0.244314      0.091481   29999.710739   \n",
       "min         129.576207      1.024868      0.218951   20684.000000   \n",
       "25%         175.927024      1.432985      0.716250   36731.250000   \n",
       "50%         192.525040      1.550761      0.764314   45148.000000   \n",
       "75%         217.315195      1.703029      0.809450   62251.500000   \n",
       "max         450.926187      2.388873      0.908167  263261.000000   \n",
       "\n",
       "       EquivDiameter        Extent      Solidity     roundness   Compactness  \\\n",
       "count   10834.000000  10834.000000  10834.000000  10834.000000  10834.000000   \n",
       "mean      253.123583      0.749937      0.987152      0.873647      0.800244   \n",
       "std        59.433080      0.048949      0.004626      0.059344      0.061228   \n",
       "min       161.243764      0.555315      0.919246      0.489618      0.645368   \n",
       "25%       215.113880      0.718778      0.985627      0.833479      0.763378   \n",
       "50%       238.419335      0.760141      0.988290      0.883472      0.801428   \n",
       "75%       279.362162      0.786871      0.990014      0.916883      0.834068   \n",
       "max       569.374358      0.866195      0.994677      0.990685      0.987303   \n",
       "\n",
       "       ShapeFactor1  ShapeFactor2  ShapeFactor3  ShapeFactor4  \n",
       "count  10834.000000  10834.000000  10834.000000  10834.000000  \n",
       "mean       0.006559      0.001718      0.644139      0.995083  \n",
       "std        0.001127      0.000593      0.098268      0.004306  \n",
       "min        0.002856      0.000564      0.416499      0.947687  \n",
       "25%        0.005888      0.001161      0.582747      0.993690  \n",
       "50%        0.006643      0.001700      0.642287      0.996397  \n",
       "75%        0.007268      0.002169      0.695670      0.997895  \n",
       "max        0.009897      0.003665      0.974767      0.999733  "
      ]
     },
     "execution_count": 5,
     "metadata": {},
     "output_type": "execute_result"
    }
   ],
   "source": [
    "train_data.describe()"
   ]
  },
  {
   "cell_type": "code",
   "execution_count": 6,
   "id": "5640437e",
   "metadata": {
    "execution": {
     "iopub.execute_input": "2021-09-29T19:59:45.983738Z",
     "iopub.status.busy": "2021-09-29T19:59:45.982623Z",
     "iopub.status.idle": "2021-09-29T19:59:45.989462Z",
     "shell.execute_reply": "2021-09-29T19:59:45.988852Z",
     "shell.execute_reply.started": "2021-09-29T19:32:39.083079Z"
    },
    "papermill": {
     "duration": 0.066311,
     "end_time": "2021-09-29T19:59:45.989633",
     "exception": false,
     "start_time": "2021-09-29T19:59:45.923322",
     "status": "completed"
    },
    "tags": []
   },
   "outputs": [
    {
     "data": {
      "text/plain": [
       "array(['HOROZ', 'SEKER', 'DERMASON', 'SIRA', 'BARBUNYA', 'CALI', 'BOMBAY'],\n",
       "      dtype=object)"
      ]
     },
     "execution_count": 6,
     "metadata": {},
     "output_type": "execute_result"
    }
   ],
   "source": [
    "## look at the target\n",
    "train_data['y'].unique()"
   ]
  },
  {
   "cell_type": "code",
   "execution_count": 7,
   "id": "fe36dca7",
   "metadata": {
    "execution": {
     "iopub.execute_input": "2021-09-29T19:59:46.108863Z",
     "iopub.status.busy": "2021-09-29T19:59:46.107998Z",
     "iopub.status.idle": "2021-09-29T19:59:46.112056Z",
     "shell.execute_reply": "2021-09-29T19:59:46.111546Z",
     "shell.execute_reply.started": "2021-09-29T19:32:39.165294Z"
    },
    "papermill": {
     "duration": 0.065701,
     "end_time": "2021-09-29T19:59:46.112233",
     "exception": false,
     "start_time": "2021-09-29T19:59:46.046532",
     "status": "completed"
    },
    "tags": []
   },
   "outputs": [],
   "source": [
    "## take a copy and drop correlated Features\n",
    "## correlated Features ['AspectRation', 'roundness', 'Compactness'] and Others\n",
    "train_new = train_data.copy()"
   ]
  },
  {
   "cell_type": "markdown",
   "id": "2d96b4df",
   "metadata": {
    "papermill": {
     "duration": 0.057997,
     "end_time": "2021-09-29T19:59:46.228715",
     "exception": false,
     "start_time": "2021-09-29T19:59:46.170718",
     "status": "completed"
    },
    "tags": []
   },
   "source": [
    "### Stratified Shuffle Split to train and val\n"
   ]
  },
  {
   "cell_type": "code",
   "execution_count": 8,
   "id": "2dfa8221",
   "metadata": {
    "execution": {
     "iopub.execute_input": "2021-09-29T19:59:46.351535Z",
     "iopub.status.busy": "2021-09-29T19:59:46.350298Z",
     "iopub.status.idle": "2021-09-29T19:59:46.356137Z",
     "shell.execute_reply": "2021-09-29T19:59:46.355626Z",
     "shell.execute_reply.started": "2021-09-29T19:32:39.330173Z"
    },
    "papermill": {
     "duration": 0.069473,
     "end_time": "2021-09-29T19:59:46.356294",
     "exception": false,
     "start_time": "2021-09-29T19:59:46.286821",
     "status": "completed"
    },
    "tags": []
   },
   "outputs": [],
   "source": [
    "train_deep = train_data.copy()\n",
    "\n",
    "train_total = train_data.copy()"
   ]
  },
  {
   "cell_type": "code",
   "execution_count": null,
   "id": "d76825ce",
   "metadata": {
    "papermill": {
     "duration": 0.056378,
     "end_time": "2021-09-29T19:59:46.470341",
     "exception": false,
     "start_time": "2021-09-29T19:59:46.413963",
     "status": "completed"
    },
    "tags": []
   },
   "outputs": [],
   "source": []
  },
  {
   "cell_type": "code",
   "execution_count": 9,
   "id": "2a3c9cab",
   "metadata": {
    "execution": {
     "iopub.execute_input": "2021-09-29T19:59:46.601573Z",
     "iopub.status.busy": "2021-09-29T19:59:46.600515Z",
     "iopub.status.idle": "2021-09-29T19:59:47.154467Z",
     "shell.execute_reply": "2021-09-29T19:59:47.153606Z",
     "shell.execute_reply.started": "2021-09-29T19:32:39.501143Z"
    },
    "papermill": {
     "duration": 0.628353,
     "end_time": "2021-09-29T19:59:47.154702",
     "exception": false,
     "start_time": "2021-09-29T19:59:46.526349",
     "status": "completed"
    },
    "tags": []
   },
   "outputs": [
    {
     "name": "stdout",
     "output_type": "stream",
     "text": [
      "total Data shape => (10834, 18)\n",
      "==============================\n",
      "train_set shape => (7583, 18)\n",
      "==============================\n",
      "val_set shape => (3251, 18)\n",
      "==============================\n"
     ]
    },
    {
     "data": {
      "image/png": "[encoded data removed]",
      "text/plain": [
       "<Figure size 1080x288 with 2 Axes>"
      ]
     },
     "metadata": {
      "needs_background": "light"
     },
     "output_type": "display_data"
    }
   ],
   "source": [
    "### split the data using that column using stratifiedMethod\n",
    "split_data = StratifiedShuffleSplit(n_splits=1, test_size=0.3, random_state=42)\n",
    "gen_for_indices = split_data.split(train_deep, train_deep['y'])\n",
    "\n",
    "for train_idx, test_idx in gen_for_indices:\n",
    "    train_set = train_deep.iloc[train_idx]\n",
    "    val_set = train_deep.iloc[test_idx]\n",
    "    \n",
    "    \n",
    "print('total Data shape =>', train_deep.shape)\n",
    "print('=='*15)\n",
    "print('train_set shape =>', train_set.shape) # 80 %\n",
    "print('=='*15)\n",
    "print('val_set shape =>', val_set.shape) # 20 %\n",
    "print('=='*15)\n",
    "\n",
    "fig, ax = plt.subplots(1, 2, figsize=(15, 4))\n",
    "\n",
    "plt.sca(ax[0])\n",
    "sns.countplot(x='y', data=train_set, order=train_set['y'].value_counts().index)\n",
    "plt.xticks(rotation=45)\n",
    "\n",
    "plt.sca(ax[1])\n",
    "sns.countplot(x='y', data=val_set, order=val_set['y'].value_counts().index)\n",
    "plt.xticks(rotation=45)\n",
    "plt.show()  ### great work"
   ]
  },
  {
   "cell_type": "markdown",
   "id": "cf826df5",
   "metadata": {
    "papermill": {
     "duration": 0.059782,
     "end_time": "2021-09-29T19:59:47.272858",
     "exception": false,
     "start_time": "2021-09-29T19:59:47.213076",
     "status": "completed"
    },
    "tags": []
   },
   "source": [
    "Area               0\n",
    "Perimeter          0\n",
    "MajorAxisLength    0\n",
    "MinorAxisLength    0\n",
    "AspectRation       0\n",
    "Eccentricity       0\n",
    "ConvexArea         0\n",
    "EquivDiameter      0\n",
    "Extent             0\n",
    "Solidity           0\n",
    "roundness          0\n",
    "Compactness        0\n",
    "ShapeFactor1       0\n",
    "ShapeFactor2       0\n",
    "ShapeFactor3       0\n",
    "ShapeFactor4       0\n",
    "y                  0"
   ]
  },
  {
   "cell_type": "markdown",
   "id": "4c7ba409",
   "metadata": {
    "papermill": {
     "duration": 0.060876,
     "end_time": "2021-09-29T19:59:47.394647",
     "exception": false,
     "start_time": "2021-09-29T19:59:47.333771",
     "status": "completed"
    },
    "tags": []
   },
   "source": [
    "### for training data"
   ]
  },
  {
   "cell_type": "code",
   "execution_count": 10,
   "id": "f93d9eca",
   "metadata": {
    "execution": {
     "iopub.execute_input": "2021-09-29T19:59:47.532751Z",
     "iopub.status.busy": "2021-09-29T19:59:47.531546Z",
     "iopub.status.idle": "2021-09-29T19:59:47.560291Z",
     "shell.execute_reply": "2021-09-29T19:59:47.559731Z",
     "shell.execute_reply.started": "2021-09-29T19:35:02.088209Z"
    },
    "papermill": {
     "duration": 0.104332,
     "end_time": "2021-09-29T19:59:47.560445",
     "exception": false,
     "start_time": "2021-09-29T19:59:47.456113",
     "status": "completed"
    },
    "tags": []
   },
   "outputs": [
    {
     "name": "stdout",
     "output_type": "stream",
     "text": [
      "unique values of target => [0. 1.]\n",
      "shape of target => (7583,)\n"
     ]
    },
    {
     "data": {
      "text/plain": [
       "array([[0., 0., 0., ..., 1., 0., 0.],\n",
       "       [0., 0., 0., ..., 0., 1., 0.],\n",
       "       [0., 0., 0., ..., 0., 0., 0.],\n",
       "       ...,\n",
       "       [0., 0., 1., ..., 0., 0., 0.],\n",
       "       [0., 0., 0., ..., 0., 0., 1.],\n",
       "       [0., 0., 0., ..., 0., 0., 0.]], dtype=float32)"
      ]
     },
     "execution_count": 10,
     "metadata": {},
     "output_type": "execute_result"
    }
   ],
   "source": [
    "X_train = train_set.drop(columns=['ID', 'y'], axis=1)\n",
    "y_train = train_set['y']\n",
    "\n",
    "x_total = train_total.drop(columns=['ID', 'y'], axis=1)\n",
    "\n",
    "y_total = train_total['y']\n",
    "\n",
    "\n",
    "\n",
    "## full_pipeline for numerical features\n",
    "\n",
    "num_pipeline_deep = Pipeline([\n",
    "                    \n",
    "                    \n",
    "                    ('scaler', MinMaxScaler()),\n",
    "                   \n",
    "                        ])\n",
    "\n",
    "X_train_final = num_pipeline_deep.fit_transform(X_train)\n",
    "X_train_final = pd.DataFrame(X_train_final)\n",
    "\n",
    "\n",
    "############################\n",
    "X_train_final2 = num_pipeline_deep.fit_transform(x_total)\n",
    "X_train_final2 = pd.DataFrame(X_train_final2)\n",
    "\n",
    "##########################\n",
    "\n",
    "### Encoding the target ==> we are going to make multiclass classification\n",
    "encoder_deep = LabelEncoder()\n",
    "y_train_final = encoder_deep.fit_transform(y_train)\n",
    "\n",
    "dummy_y = np_utils.to_categorical(y_train_final)\n",
    "\n",
    "\n",
    "\n",
    "############################\n",
    "\n",
    "encoder_total = LabelEncoder()\n",
    "\n",
    "y_total_final2 = encoder_total.fit_transform(y_total)\n",
    "\n",
    "dummy_y_total = np_utils.to_categorical(y_total_final2)\n",
    "\n",
    "\n",
    "##########################\n",
    "\n",
    "print('unique values of target =>', np.unique(dummy_y_total))\n",
    "print('shape of target =>', y_train_final.shape) ## ok\n",
    "\n",
    "dummy_y_total"
   ]
  },
  {
   "cell_type": "code",
   "execution_count": 11,
   "id": "6cd702bb",
   "metadata": {
    "execution": {
     "iopub.execute_input": "2021-09-29T19:59:47.697949Z",
     "iopub.status.busy": "2021-09-29T19:59:47.693142Z",
     "iopub.status.idle": "2021-09-29T19:59:47.702682Z",
     "shell.execute_reply": "2021-09-29T19:59:47.702203Z",
     "shell.execute_reply.started": "2021-09-29T19:35:02.156021Z"
    },
    "papermill": {
     "duration": 0.084651,
     "end_time": "2021-09-29T19:59:47.702809",
     "exception": false,
     "start_time": "2021-09-29T19:59:47.618158",
     "status": "completed"
    },
    "tags": []
   },
   "outputs": [
    {
     "data": {
      "text/html": [
       "<div>\n",
       "<style scoped>\n",
       "    .dataframe tbody tr th:only-of-type {\n",
       "        vertical-align: middle;\n",
       "    }\n",
       "\n",
       "    .dataframe tbody tr th {\n",
       "        vertical-align: top;\n",
       "    }\n",
       "\n",
       "    .dataframe thead th {\n",
       "        text-align: right;\n",
       "    }\n",
       "</style>\n",
       "<table border=\"1\" class=\"dataframe\">\n",
       "  <thead>\n",
       "    <tr style=\"text-align: right;\">\n",
       "      <th></th>\n",
       "      <th>0</th>\n",
       "      <th>1</th>\n",
       "      <th>2</th>\n",
       "      <th>3</th>\n",
       "      <th>4</th>\n",
       "      <th>5</th>\n",
       "      <th>6</th>\n",
       "      <th>7</th>\n",
       "      <th>8</th>\n",
       "      <th>9</th>\n",
       "      <th>10</th>\n",
       "      <th>11</th>\n",
       "      <th>12</th>\n",
       "      <th>13</th>\n",
       "      <th>14</th>\n",
       "      <th>15</th>\n",
       "    </tr>\n",
       "  </thead>\n",
       "  <tbody>\n",
       "    <tr>\n",
       "      <th>0</th>\n",
       "      <td>0.107636</td>\n",
       "      <td>0.173102</td>\n",
       "      <td>0.146667</td>\n",
       "      <td>0.279251</td>\n",
       "      <td>0.123640</td>\n",
       "      <td>0.447309</td>\n",
       "      <td>0.104763</td>\n",
       "      <td>0.195491</td>\n",
       "      <td>0.713017</td>\n",
       "      <td>0.940893</td>\n",
       "      <td>0.919746</td>\n",
       "      <td>0.790396</td>\n",
       "      <td>0.419382</td>\n",
       "      <td>0.608418</td>\n",
       "      <td>0.756334</td>\n",
       "      <td>0.994760</td>\n",
       "    </tr>\n",
       "    <tr>\n",
       "      <th>1</th>\n",
       "      <td>0.179576</td>\n",
       "      <td>0.339330</td>\n",
       "      <td>0.423946</td>\n",
       "      <td>0.191212</td>\n",
       "      <td>0.854924</td>\n",
       "      <td>0.971086</td>\n",
       "      <td>0.176179</td>\n",
       "      <td>0.295976</td>\n",
       "      <td>0.785460</td>\n",
       "      <td>0.877888</td>\n",
       "      <td>0.530301</td>\n",
       "      <td>0.083093</td>\n",
       "      <td>0.546900</td>\n",
       "      <td>0.091958</td>\n",
       "      <td>0.067428</td>\n",
       "      <td>0.887131</td>\n",
       "    </tr>\n",
       "    <tr>\n",
       "      <th>2</th>\n",
       "      <td>0.265064</td>\n",
       "      <td>0.410015</td>\n",
       "      <td>0.454406</td>\n",
       "      <td>0.358029</td>\n",
       "      <td>0.549390</td>\n",
       "      <td>0.871694</td>\n",
       "      <td>0.263042</td>\n",
       "      <td>0.399021</td>\n",
       "      <td>0.591309</td>\n",
       "      <td>0.761758</td>\n",
       "      <td>0.664938</td>\n",
       "      <td>0.293712</td>\n",
       "      <td>0.344864</td>\n",
       "      <td>0.139246</td>\n",
       "      <td>0.251060</td>\n",
       "      <td>0.717070</td>\n",
       "    </tr>\n",
       "    <tr>\n",
       "      <th>3</th>\n",
       "      <td>0.185955</td>\n",
       "      <td>0.329591</td>\n",
       "      <td>0.409953</td>\n",
       "      <td>0.217396</td>\n",
       "      <td>0.757291</td>\n",
       "      <td>0.946369</td>\n",
       "      <td>0.181683</td>\n",
       "      <td>0.304190</td>\n",
       "      <td>0.205319</td>\n",
       "      <td>0.914715</td>\n",
       "      <td>0.610578</td>\n",
       "      <td>0.145566</td>\n",
       "      <td>0.507405</td>\n",
       "      <td>0.114707</td>\n",
       "      <td>0.119994</td>\n",
       "      <td>0.872682</td>\n",
       "    </tr>\n",
       "    <tr>\n",
       "      <th>4</th>\n",
       "      <td>0.047896</td>\n",
       "      <td>0.100234</td>\n",
       "      <td>0.129033</td>\n",
       "      <td>0.089654</td>\n",
       "      <td>0.422886</td>\n",
       "      <td>0.802343</td>\n",
       "      <td>0.046958</td>\n",
       "      <td>0.096682</td>\n",
       "      <td>0.524810</td>\n",
       "      <td>0.894484</td>\n",
       "      <td>0.787770</td>\n",
       "      <td>0.421882</td>\n",
       "      <td>0.740250</td>\n",
       "      <td>0.431583</td>\n",
       "      <td>0.371735</td>\n",
       "      <td>0.935567</td>\n",
       "    </tr>\n",
       "  </tbody>\n",
       "</table>\n",
       "</div>"
      ],
      "text/plain": [
       "         0         1         2         3         4         5         6   \\\n",
       "0  0.107636  0.173102  0.146667  0.279251  0.123640  0.447309  0.104763   \n",
       "1  0.179576  0.339330  0.423946  0.191212  0.854924  0.971086  0.176179   \n",
       "2  0.265064  0.410015  0.454406  0.358029  0.549390  0.871694  0.263042   \n",
       "3  0.185955  0.329591  0.409953  0.217396  0.757291  0.946369  0.181683   \n",
       "4  0.047896  0.100234  0.129033  0.089654  0.422886  0.802343  0.046958   \n",
       "\n",
       "         7         8         9         10        11        12        13  \\\n",
       "0  0.195491  0.713017  0.940893  0.919746  0.790396  0.419382  0.608418   \n",
       "1  0.295976  0.785460  0.877888  0.530301  0.083093  0.546900  0.091958   \n",
       "2  0.399021  0.591309  0.761758  0.664938  0.293712  0.344864  0.139246   \n",
       "3  0.304190  0.205319  0.914715  0.610578  0.145566  0.507405  0.114707   \n",
       "4  0.096682  0.524810  0.894484  0.787770  0.421882  0.740250  0.431583   \n",
       "\n",
       "         14        15  \n",
       "0  0.756334  0.994760  \n",
       "1  0.067428  0.887131  \n",
       "2  0.251060  0.717070  \n",
       "3  0.119994  0.872682  \n",
       "4  0.371735  0.935567  "
      ]
     },
     "execution_count": 11,
     "metadata": {},
     "output_type": "execute_result"
    }
   ],
   "source": [
    "X_train_final.head()"
   ]
  },
  {
   "cell_type": "markdown",
   "id": "7f0a0f7b",
   "metadata": {
    "papermill": {
     "duration": 0.064359,
     "end_time": "2021-09-29T19:59:47.828332",
     "exception": false,
     "start_time": "2021-09-29T19:59:47.763973",
     "status": "completed"
    },
    "tags": []
   },
   "source": [
    "### for validating\n"
   ]
  },
  {
   "cell_type": "code",
   "execution_count": 12,
   "id": "7a6685a7",
   "metadata": {
    "execution": {
     "iopub.execute_input": "2021-09-29T19:59:47.956357Z",
     "iopub.status.busy": "2021-09-29T19:59:47.955463Z",
     "iopub.status.idle": "2021-09-29T19:59:47.964669Z",
     "shell.execute_reply": "2021-09-29T19:59:47.963800Z",
     "shell.execute_reply.started": "2021-09-29T19:35:03.544251Z"
    },
    "papermill": {
     "duration": 0.077677,
     "end_time": "2021-09-29T19:59:47.964842",
     "exception": false,
     "start_time": "2021-09-29T19:59:47.887165",
     "status": "completed"
    },
    "tags": []
   },
   "outputs": [
    {
     "name": "stdout",
     "output_type": "stream",
     "text": [
      "unique values of target => [0 1 2 3 4 5 6]\n",
      "shape of target => (3251,)\n"
     ]
    }
   ],
   "source": [
    "X_val = val_set.drop(columns=['ID', 'y'], axis=1)\n",
    "y_val = val_set['y']\n",
    "\n",
    "X_val_final = num_pipeline_deep.transform(X_val)\n",
    "X_val_final = pd.DataFrame(X_val_final)\n",
    "\n",
    "y_val_final = encoder_deep.transform(y_val)\n",
    "\n",
    "dummy_valy = np_utils.to_categorical(y_val_final)\n",
    "\n",
    "print('unique values of target =>', np.unique(y_val_final))\n",
    "print('shape of target =>', y_val_final.shape) ## ok"
   ]
  },
  {
   "cell_type": "code",
   "execution_count": 13,
   "id": "c0b232cf",
   "metadata": {
    "execution": {
     "iopub.execute_input": "2021-09-29T19:59:48.090858Z",
     "iopub.status.busy": "2021-09-29T19:59:48.089536Z",
     "iopub.status.idle": "2021-09-29T19:59:48.326400Z",
     "shell.execute_reply": "2021-09-29T19:59:48.326887Z",
     "shell.execute_reply.started": "2021-09-29T19:35:04.635045Z"
    },
    "papermill": {
     "duration": 0.303085,
     "end_time": "2021-09-29T19:59:48.327094",
     "exception": false,
     "start_time": "2021-09-29T19:59:48.024009",
     "status": "completed"
    },
    "tags": []
   },
   "outputs": [
    {
     "data": {
      "text/plain": [
       "(7583, 4845)"
      ]
     },
     "execution_count": 13,
     "metadata": {},
     "output_type": "execute_result"
    }
   ],
   "source": [
    "m_poly = PolynomialFeatures(degree=4)\n",
    "\n",
    "x_poly = m_poly.fit_transform(X_train_final)\n",
    "x_poly.shape"
   ]
  },
  {
   "cell_type": "code",
   "execution_count": null,
   "id": "8a302f6f",
   "metadata": {
    "papermill": {
     "duration": 0.062243,
     "end_time": "2021-09-29T19:59:48.453132",
     "exception": false,
     "start_time": "2021-09-29T19:59:48.390889",
     "status": "completed"
    },
    "tags": []
   },
   "outputs": [],
   "source": []
  },
  {
   "cell_type": "code",
   "execution_count": 14,
   "id": "c2bcf5a5",
   "metadata": {
    "execution": {
     "iopub.execute_input": "2021-09-29T19:59:48.584431Z",
     "iopub.status.busy": "2021-09-29T19:59:48.583279Z",
     "iopub.status.idle": "2021-09-29T20:00:02.312087Z",
     "shell.execute_reply": "2021-09-29T20:00:02.313678Z",
     "shell.execute_reply.started": "2021-09-29T19:37:12.887114Z"
    },
    "papermill": {
     "duration": 13.798497,
     "end_time": "2021-09-29T20:00:02.313959",
     "exception": false,
     "start_time": "2021-09-29T19:59:48.515462",
     "status": "completed"
    },
    "tags": []
   },
   "outputs": [
    {
     "name": "stdout",
     "output_type": "stream",
     "text": [
      "              precision    recall  f1-score   support\n",
      "\n",
      "       HOROZ       0.93      0.91      0.92       317\n",
      "       SEKER       1.00      1.00      1.00       126\n",
      "    DERMASON       0.94      0.94      0.94       391\n",
      "        SIRA       0.91      0.92      0.91       851\n",
      "    BARBUNYA       0.94      0.96      0.95       447\n",
      "        CALI       0.97      0.92      0.94       486\n",
      "      BOMBAY       0.86      0.87      0.86       633\n",
      "\n",
      "    accuracy                           0.92      3251\n",
      "   macro avg       0.94      0.93      0.93      3251\n",
      "weighted avg       0.92      0.92      0.92      3251\n",
      "\n",
      "[[290   0  18   0   2   3   4]\n",
      " [  0 126   0   0   0   0   0]\n",
      " [ 10   0 369   0   8   0   4]\n",
      " [  0   0   0 783   4   3  61]\n",
      " [  2   0   3   6 430   0   6]\n",
      " [  8   0   0  14   0 447  17]\n",
      " [  3   0   1  58  12   8 551]]\n",
      "              precision    recall  f1-score   support\n",
      "\n",
      "           0       0.93      0.91      0.92       317\n",
      "           1       1.00      1.00      1.00       126\n",
      "           2       0.94      0.94      0.94       391\n",
      "           3       0.91      0.92      0.91       851\n",
      "           4       0.94      0.96      0.95       447\n",
      "           5       0.97      0.92      0.94       486\n",
      "           6       0.86      0.87      0.86       633\n",
      "\n",
      "    accuracy                           0.92      3251\n",
      "   macro avg       0.94      0.93      0.93      3251\n",
      "weighted avg       0.92      0.92      0.92      3251\n",
      "\n",
      "0.9215625961242695\n"
     ]
    }
   ],
   "source": [
    "snn_classifier = MLPClassifier()\n",
    "snn_classifier.fit(X_train_final, y_train_final)\n",
    "\n",
    "\n",
    "predict = snn_classifier.predict(X_val_final)\n",
    "\n",
    "print(classification_report(y_val_final, predict, target_names=['HOROZ', 'SEKER', 'DERMASON', 'SIRA', 'BARBUNYA', 'CALI', 'BOMBAY']))\n",
    "\n",
    "\n",
    "# Generate the confusion matrix and classification report\n",
    "print(confusion_matrix(y_val_final, predict))\n",
    "print(classification_report(y_val_final, predict))\n",
    "\n",
    "\n",
    "print(f1_score(y_val_final, predict, average='micro'))"
   ]
  },
  {
   "cell_type": "code",
   "execution_count": 15,
   "id": "98eb42c6",
   "metadata": {
    "execution": {
     "iopub.execute_input": "2021-09-29T20:00:02.537995Z",
     "iopub.status.busy": "2021-09-29T20:00:02.536821Z",
     "iopub.status.idle": "2021-09-29T20:01:07.306000Z",
     "shell.execute_reply": "2021-09-29T20:01:07.305346Z",
     "shell.execute_reply.started": "2021-09-29T19:37:44.713878Z"
    },
    "papermill": {
     "duration": 64.876964,
     "end_time": "2021-09-29T20:01:07.306151",
     "exception": false,
     "start_time": "2021-09-29T20:00:02.429187",
     "status": "completed"
    },
    "tags": []
   },
   "outputs": [
    {
     "name": "stdout",
     "output_type": "stream",
     "text": [
      "              precision    recall  f1-score   support\n",
      "\n",
      "       HOROZ       0.94      0.88      0.91       317\n",
      "       SEKER       1.00      1.00      1.00       126\n",
      "    DERMASON       0.92      0.95      0.93       391\n",
      "        SIRA       0.91      0.92      0.91       851\n",
      "    BARBUNYA       0.95      0.96      0.96       447\n",
      "        CALI       0.97      0.93      0.95       486\n",
      "      BOMBAY       0.85      0.87      0.86       633\n",
      "\n",
      "    accuracy                           0.92      3251\n",
      "   macro avg       0.93      0.93      0.93      3251\n",
      "weighted avg       0.92      0.92      0.92      3251\n",
      "\n",
      "0.919409412488465\n"
     ]
    },
    {
     "name": "stderr",
     "output_type": "stream",
     "text": [
      "/opt/conda/lib/python3.7/site-packages/sklearn/neural_network/_multilayer_perceptron.py:585: ConvergenceWarning: Stochastic Optimizer: Maximum iterations (200) reached and the optimization hasn't converged yet.\n",
      "  % self.max_iter, ConvergenceWarning)\n"
     ]
    }
   ],
   "source": [
    "dnns_classifier = OneVsRestClassifier(MLPClassifier())\n",
    "dnns_classifier.fit(X_train_final, y_train_final)\n",
    "\n",
    "predict = dnns_classifier.predict(X_val_final)\n",
    "\n",
    "print(classification_report(y_val_final, predict, target_names=['HOROZ', 'SEKER', 'DERMASON', 'SIRA', 'BARBUNYA', 'CALI', 'BOMBAY']))\n",
    "\n",
    "predict = dnns_classifier.predict(X_val_final)\n",
    "print(f1_score(y_val_final, predict, average='micro'))"
   ]
  },
  {
   "cell_type": "code",
   "execution_count": 16,
   "id": "e7520982",
   "metadata": {
    "execution": {
     "iopub.execute_input": "2021-09-29T20:01:07.442363Z",
     "iopub.status.busy": "2021-09-29T20:01:07.441123Z",
     "iopub.status.idle": "2021-09-29T20:01:09.524174Z",
     "shell.execute_reply": "2021-09-29T20:01:09.523265Z",
     "shell.execute_reply.started": "2021-09-29T19:43:24.529785Z"
    },
    "papermill": {
     "duration": 2.15581,
     "end_time": "2021-09-29T20:01:09.524355",
     "exception": false,
     "start_time": "2021-09-29T20:01:07.368545",
     "status": "completed"
    },
    "tags": []
   },
   "outputs": [
    {
     "name": "stdout",
     "output_type": "stream",
     "text": [
      "              precision    recall  f1-score   support\n",
      "\n",
      "       HOROZ       0.94      0.89      0.91       317\n",
      "       SEKER       1.00      1.00      1.00       126\n",
      "    DERMASON       0.92      0.95      0.94       391\n",
      "        SIRA       0.92      0.93      0.92       851\n",
      "    BARBUNYA       0.95      0.96      0.95       447\n",
      "        CALI       0.97      0.93      0.95       486\n",
      "      BOMBAY       0.86      0.88      0.87       633\n",
      "\n",
      "    accuracy                           0.93      3251\n",
      "   macro avg       0.94      0.93      0.94      3251\n",
      "weighted avg       0.93      0.93      0.93      3251\n",
      "\n",
      "0.9252537680713626\n"
     ]
    }
   ],
   "source": [
    "# svm_clf = Pipeline([\n",
    "#     (\"poly_features\", PolynomialFeatures(degree=3)),\n",
    "#     (\"scaler\", ),\n",
    "#     (\"svm_cls\", )\n",
    "# ])\n",
    "\n",
    "\n",
    "svm_clf = SVC(kernel='poly', degree=4, coef0=1, C=100, gamma=0.01, random_state=42, probability=True)\n",
    "\n",
    "svm_clf.fit(X_train_final, y_train_final)\n",
    "\n",
    "predict = svm_clf.predict(X_val_final)\n",
    "\n",
    "print(classification_report(y_val_final, predict, target_names=['HOROZ', 'SEKER', 'DERMASON', 'SIRA', 'BARBUNYA', 'CALI', 'BOMBAY']))\n",
    "\n",
    "predict = svm_clf.predict(X_val_final)\n",
    "print(f1_score(y_val_final, predict, average='micro'))"
   ]
  },
  {
   "cell_type": "code",
   "execution_count": 17,
   "id": "72fb0046",
   "metadata": {
    "execution": {
     "iopub.execute_input": "2021-09-29T20:01:09.659631Z",
     "iopub.status.busy": "2021-09-29T20:01:09.658610Z",
     "iopub.status.idle": "2021-09-29T20:01:13.169680Z",
     "shell.execute_reply": "2021-09-29T20:01:13.170454Z",
     "shell.execute_reply.started": "2021-09-29T19:48:27.331447Z"
    },
    "papermill": {
     "duration": 3.583975,
     "end_time": "2021-09-29T20:01:13.170819",
     "exception": false,
     "start_time": "2021-09-29T20:01:09.586844",
     "status": "completed"
    },
    "tags": []
   },
   "outputs": [
    {
     "name": "stdout",
     "output_type": "stream",
     "text": [
      "0.927406951707167\n"
     ]
    }
   ],
   "source": [
    "\n",
    "RF_cls = RandomForestClassifier(max_depth=64, n_estimators=145)\n",
    "\n",
    "RF_cls.fit(X_train_final, y_train_final)\n",
    "\n",
    "\n",
    "# cross_val_score(RF_cls, X_val_final, y_val_final, cv=3, scoring=\"accuracy\").mean()\n",
    "\n",
    "\n",
    "# max_depth=[64 , 65 , 62]\n",
    "# n_estimators = [64]\n",
    "# param_grid = dict(max_depth=max_depth, n_estimators=n_estimators)\n",
    "\n",
    "# # Build the grid search\n",
    "# dfrst = RandomForestClassifier(n_estimators=n_estimators, max_depth=max_depth)\n",
    "# grid = GridSearchCV(estimator=dfrst, param_grid=param_grid, cv = 5)\n",
    "# grid.fit(X_train_final, y_train_final)\n",
    "\n",
    "# best --> max_depth=16, n_estimators=64\n",
    "\n",
    "predict = RF_cls.predict(X_val_final)\n",
    "print(f1_score(y_val_final, predict, average='micro'))"
   ]
  },
  {
   "cell_type": "code",
   "execution_count": 18,
   "id": "02d1f2ee",
   "metadata": {
    "execution": {
     "iopub.execute_input": "2021-09-29T20:01:13.303344Z",
     "iopub.status.busy": "2021-09-29T20:01:13.302352Z",
     "iopub.status.idle": "2021-09-29T20:01:13.305742Z",
     "shell.execute_reply": "2021-09-29T20:01:13.306300Z",
     "shell.execute_reply.started": "2021-09-20T22:11:11.992238Z"
    },
    "papermill": {
     "duration": 0.071543,
     "end_time": "2021-09-29T20:01:13.306527",
     "exception": false,
     "start_time": "2021-09-29T20:01:13.234984",
     "status": "completed"
    },
    "tags": []
   },
   "outputs": [],
   "source": [
    "# grid.best_estimator_"
   ]
  },
  {
   "cell_type": "markdown",
   "id": "b5336bb7",
   "metadata": {
    "papermill": {
     "duration": 0.063097,
     "end_time": "2021-09-29T20:01:13.431996",
     "exception": false,
     "start_time": "2021-09-29T20:01:13.368899",
     "status": "completed"
    },
    "tags": []
   },
   "source": []
  },
  {
   "cell_type": "code",
   "execution_count": 19,
   "id": "9137edf3",
   "metadata": {
    "execution": {
     "iopub.execute_input": "2021-09-29T20:01:13.560863Z",
     "iopub.status.busy": "2021-09-29T20:01:13.559814Z",
     "iopub.status.idle": "2021-09-29T20:01:13.563367Z",
     "shell.execute_reply": "2021-09-29T20:01:13.562775Z",
     "shell.execute_reply.started": "2021-09-20T22:11:11.998538Z"
    },
    "papermill": {
     "duration": 0.069138,
     "end_time": "2021-09-29T20:01:13.563498",
     "exception": false,
     "start_time": "2021-09-29T20:01:13.494360",
     "status": "completed"
    },
    "tags": []
   },
   "outputs": [],
   "source": [
    "# RF_cls.feature_importances_"
   ]
  },
  {
   "cell_type": "code",
   "execution_count": 20,
   "id": "760e8ac0",
   "metadata": {
    "execution": {
     "iopub.execute_input": "2021-09-29T20:01:13.694173Z",
     "iopub.status.busy": "2021-09-29T20:01:13.693524Z",
     "iopub.status.idle": "2021-09-29T20:01:13.959611Z",
     "shell.execute_reply": "2021-09-29T20:01:13.959041Z"
    },
    "papermill": {
     "duration": 0.334934,
     "end_time": "2021-09-29T20:01:13.959764",
     "exception": false,
     "start_time": "2021-09-29T20:01:13.624830",
     "status": "completed"
    },
    "tags": []
   },
   "outputs": [
    {
     "name": "stdout",
     "output_type": "stream",
     "text": [
      "0.9154106428791141\n"
     ]
    }
   ],
   "source": [
    "knn_clf = KNeighborsClassifier()\n",
    "\n",
    "\n",
    "# parameters = {'n_neighbors':[11],\n",
    "#               'n_jobs':[-1]}\n",
    "\n",
    "# #Fit the model\n",
    "# modelgrid = GridSearchCV(knn_clf, param_grid=parameters)\n",
    "# modelgrid.fit(X_train_final, y_train_final)\n",
    "\n",
    "# #predictions on test data\n",
    "# modelgrid.best_params_\n",
    "\n",
    "knn_clf.fit(X_train_final, y_train_final)\n",
    "\n",
    "# best --> n_neighbors=14 , n_jobs=-1\n",
    "\n",
    "\n",
    "# cross_val_score(knn_clf, X_val_final, y_val_final, cv=3, scoring=\"accuracy\").mean()\n",
    "\n",
    "predict = knn_clf.predict(X_val_final)\n",
    "print(f1_score(y_val_final, predict, average='micro'))"
   ]
  },
  {
   "cell_type": "code",
   "execution_count": 21,
   "id": "2e33d9a2",
   "metadata": {
    "execution": {
     "iopub.execute_input": "2021-09-29T20:01:14.098392Z",
     "iopub.status.busy": "2021-09-29T20:01:14.097450Z",
     "iopub.status.idle": "2021-09-29T20:02:28.769543Z",
     "shell.execute_reply": "2021-09-29T20:02:28.770455Z",
     "shell.execute_reply.started": "2021-09-29T19:51:26.203896Z"
    },
    "papermill": {
     "duration": 74.744047,
     "end_time": "2021-09-29T20:02:28.770688",
     "exception": false,
     "start_time": "2021-09-29T20:01:14.026641",
     "status": "completed"
    },
    "tags": []
   },
   "outputs": [
    {
     "name": "stdout",
     "output_type": "stream",
     "text": [
      "0.9175638265149185\n"
     ]
    }
   ],
   "source": [
    "Baggingclf = BaggingClassifier(base_estimator=SVC(kernel='poly', degree=4, coef0=1, C=100, gamma=0.001), n_estimators=200)\n",
    "Baggingclf.fit(X_train_final, y_train_final)\n",
    "\n",
    "predict = Baggingclf.predict(X_val_final)\n",
    "print(f1_score(y_val_final, predict, average='micro'))"
   ]
  },
  {
   "cell_type": "code",
   "execution_count": 22,
   "id": "7029ddd0",
   "metadata": {
    "execution": {
     "iopub.execute_input": "2021-09-29T20:02:28.902662Z",
     "iopub.status.busy": "2021-09-29T20:02:28.901720Z",
     "iopub.status.idle": "2021-09-29T20:02:34.244799Z",
     "shell.execute_reply": "2021-09-29T20:02:34.245568Z",
     "shell.execute_reply.started": "2021-09-29T19:58:35.535584Z"
    },
    "papermill": {
     "duration": 5.411182,
     "end_time": "2021-09-29T20:02:34.245826",
     "exception": false,
     "start_time": "2021-09-29T20:02:28.834644",
     "status": "completed"
    },
    "tags": []
   },
   "outputs": [
    {
     "name": "stdout",
     "output_type": "stream",
     "text": [
      "0.9286373423561981\n"
     ]
    }
   ],
   "source": [
    "voting_clf =  VotingClassifier(\n",
    "                                estimators=[('SVC', svm_clf), ('RF', RF_cls) ] , voting='soft')\n",
    "\n",
    "voting_clf.fit(X_train_final, y_train_final)\n",
    "\n",
    "\n",
    "predict = voting_clf.predict(X_val_final)\n",
    "print(f1_score(y_val_final, predict, average='micro'))"
   ]
  },
  {
   "cell_type": "code",
   "execution_count": 23,
   "id": "ea3cd765",
   "metadata": {
    "execution": {
     "iopub.execute_input": "2021-09-29T20:02:34.381068Z",
     "iopub.status.busy": "2021-09-29T20:02:34.380248Z",
     "iopub.status.idle": "2021-09-29T20:02:34.383618Z",
     "shell.execute_reply": "2021-09-29T20:02:34.383112Z",
     "shell.execute_reply.started": "2021-09-20T00:35:25.604383Z"
    },
    "papermill": {
     "duration": 0.07233,
     "end_time": "2021-09-29T20:02:34.383759",
     "exception": false,
     "start_time": "2021-09-29T20:02:34.311429",
     "status": "completed"
    },
    "tags": []
   },
   "outputs": [],
   "source": [
    "# def get_stacking():\n",
    "#     # define the base models\n",
    "#     level0 = list()\n",
    "#     level0.append(('Bagging', BaggingClassifier(base_estimator=SVC(), n_estimators=10)))\n",
    "#     level0.append(('svm', SVC( C=100, gamma=0.01)))\n",
    "#     level0.append(('XGB', XGBClassifier(aplha=2, base_score=0.5, booster='gbtree', colsample_bylevel=1,\n",
    "#               colsample_bynode=1, colsample_bytree=0.6, gamma=2, gpu_id=-1,\n",
    "#               importance_type='gain', interaction_constraints='',\n",
    "#               learning_rate=0.05, max_delta_step=0, max_depth=6,\n",
    "#               min_child_weight=1, missing=nan, monotone_constraints='()',\n",
    "#               n_estimators=100, n_jobs=8, num_parallel_tree=1,\n",
    "#               objective='multi:softprob', random_state=0, reg_alpha=0,\n",
    "#               reg_lambda=1, scale_pos_weight=None, subsample=1.0,\n",
    "#               tree_method='exact', validate_parameters=1, verbosity=None)))\n",
    "#     # define meta learner model\n",
    "#     level1 = LogisticRegression()\n",
    "#     # define the stacking ensemble\n",
    "#     model = StackingClassifier(estimators=level0, final_estimator=level1, cv=5)\n",
    "#     return model"
   ]
  },
  {
   "cell_type": "code",
   "execution_count": 24,
   "id": "b171c848",
   "metadata": {
    "execution": {
     "iopub.execute_input": "2021-09-29T20:02:34.514963Z",
     "iopub.status.busy": "2021-09-29T20:02:34.513937Z",
     "iopub.status.idle": "2021-09-29T20:02:34.517296Z",
     "shell.execute_reply": "2021-09-29T20:02:34.516721Z",
     "shell.execute_reply.started": "2021-09-20T00:35:25.609707Z"
    },
    "papermill": {
     "duration": 0.069791,
     "end_time": "2021-09-29T20:02:34.517426",
     "exception": false,
     "start_time": "2021-09-29T20:02:34.447635",
     "status": "completed"
    },
    "tags": []
   },
   "outputs": [],
   "source": [
    "# y_train_final"
   ]
  },
  {
   "cell_type": "code",
   "execution_count": 25,
   "id": "3ec68438",
   "metadata": {
    "execution": {
     "iopub.execute_input": "2021-09-29T20:02:34.650371Z",
     "iopub.status.busy": "2021-09-29T20:02:34.649324Z",
     "iopub.status.idle": "2021-09-29T20:02:34.652620Z",
     "shell.execute_reply": "2021-09-29T20:02:34.652104Z",
     "shell.execute_reply.started": "2021-09-20T00:35:25.622083Z"
    },
    "papermill": {
     "duration": 0.072166,
     "end_time": "2021-09-29T20:02:34.652762",
     "exception": false,
     "start_time": "2021-09-29T20:02:34.580596",
     "status": "completed"
    },
    "tags": []
   },
   "outputs": [],
   "source": [
    "# from numpy import mean\n",
    "# from numpy import std\n",
    "# from sklearn.datasets import make_classification\n",
    "# from sklearn.model_selection import cross_val_score\n",
    "# from sklearn.model_selection import RepeatedStratifiedKFold\n",
    "# from sklearn.linear_model import LogisticRegression\n",
    "# from sklearn.neighbors import KNeighborsClassifier\n",
    "# from sklearn.tree import DecisionTreeClassifier\n",
    "# from sklearn.svm import SVC\n",
    "# from sklearn.naive_bayes import GaussianNB\n",
    "# from sklearn.ensemble import StackingClassifier\n",
    "# from matplotlib import pyplot\n",
    "\n",
    "\n",
    "# # get a stacking ensemble of models\n",
    "# def get_stacking():\n",
    "# \t# define the base models\n",
    "# \tlevel0 = list()\n",
    "# \tlevel0.append(('knn', KNeighborsClassifier()))\n",
    "# \tlevel0.append(('svm', SVC()))\n",
    "# \tlevel0.append(('bayes', GaussianNB()))\n",
    "# \t# define meta learner model\n",
    "# \tlevel1 = LogisticRegression()\n",
    "# \t# define the stacking ensemble\n",
    "# \tmodel = StackingClassifier(estimators=level0, final_estimator=level1, cv=5)\n",
    "# \treturn model\n",
    "\n",
    "# # get a list of models to evaluate\n",
    "# def get_models():\n",
    "# \tmodels = dict()\n",
    "# \tmodels['knn'] = KNeighborsClassifier()\n",
    "# \tmodels['svm'] = SVC()\n",
    "# \tmodels['bayes'] = GaussianNB()\n",
    "# \tmodels['stacking'] = get_stacking()\n",
    "# \treturn models\n",
    "\n",
    "# # evaluate a give model using cross-validation\n",
    "# def evaluate_model(model, X, y):\n",
    "# \tcv = RepeatedStratifiedKFold(n_splits=10, n_repeats=3, random_state=1)\n",
    "# \tscores = cross_val_score(model, X, y, scoring='accuracy', cv=cv, n_jobs=-1)\n",
    "# \treturn scores\n",
    "\n",
    "# # define dataset\n",
    "# X, y = X_train_final, y_train_final\n",
    "# # get the models to evaluate\n",
    "# models = get_models()\n",
    "# # evaluate the models and store results\n",
    "# results, names = list(), list()\n",
    "# for name, model in models.items():\n",
    "# \tscores = evaluate_model(model, X, y)\n",
    "# \tresults.append(scores)\n",
    "# \tnames.append(name)\n",
    "# \tprint('>%s %.3f (%.3f)' % (name, mean(scores), std(scores)))\n",
    "# # plot model performance for comparison\n",
    "# pyplot.boxplot(results, labels=names, showmeans=True)\n",
    "# pyplot.show()"
   ]
  },
  {
   "cell_type": "code",
   "execution_count": 26,
   "id": "60ecb7bb",
   "metadata": {
    "execution": {
     "iopub.execute_input": "2021-09-29T20:02:34.784568Z",
     "iopub.status.busy": "2021-09-29T20:02:34.783395Z",
     "iopub.status.idle": "2021-09-29T20:02:34.787338Z",
     "shell.execute_reply": "2021-09-29T20:02:34.786691Z",
     "shell.execute_reply.started": "2021-09-20T00:35:25.630732Z"
    },
    "papermill": {
     "duration": 0.074475,
     "end_time": "2021-09-29T20:02:34.787476",
     "exception": false,
     "start_time": "2021-09-29T20:02:34.713001",
     "status": "completed"
    },
    "tags": []
   },
   "outputs": [],
   "source": [
    "\n",
    "\n",
    "# para_tunning = {\n",
    "#         'learning_rate': [0.01,0.05,0.1],\n",
    "#         'min_child_weight': [1, 5, 10],\n",
    "#         'gamma': [0.5, 1, 1.5, 2, 5],\n",
    "#         'subsample': [0.6, 0.8, 1.0],\n",
    "#         'colsample_bytree': [0.6, 0.8, 1.0],\n",
    "#         'max_depth': [3, 4, 5, 6, 7, 8, 9, 10],\n",
    "#         \"n_estimators\": [100, 200, 300, 400, 500],\n",
    "#         \"objective\": \"multi:softmax\",\n",
    "#         \"aplha\":[0,2,4,6,8]\n",
    "#         }\n",
    "\n",
    "# clf_rndcv = RandomizedSearchCV(xg_model, \n",
    "#                          param_distributions = para_tunning,\n",
    "#                          cv = 5,  \n",
    "#                          n_iter = 5,\n",
    "#                          scoring = 'accuracy', \n",
    "#                          error_score = 0, \n",
    "#                          verbose = 3, \n",
    "#                          n_jobs = -1,\n",
    "#                          random_state = 42)\n",
    "\n",
    "# clf_rndcv.fit(X_train_final, y_train_final)\n"
   ]
  },
  {
   "cell_type": "code",
   "execution_count": 27,
   "id": "ac1786da",
   "metadata": {
    "execution": {
     "iopub.execute_input": "2021-09-29T20:02:34.920431Z",
     "iopub.status.busy": "2021-09-29T20:02:34.919425Z",
     "iopub.status.idle": "2021-09-29T20:02:34.922341Z",
     "shell.execute_reply": "2021-09-29T20:02:34.922996Z",
     "shell.execute_reply.started": "2021-09-20T00:37:59.562212Z"
    },
    "papermill": {
     "duration": 0.071308,
     "end_time": "2021-09-29T20:02:34.923171",
     "exception": false,
     "start_time": "2021-09-29T20:02:34.851863",
     "status": "completed"
    },
    "tags": []
   },
   "outputs": [],
   "source": [
    "# xgb_classifier = OneVsRestClassifier(XGBClassifier())\n",
    "# xgb_classifier.fit(X_train_final, y_train_final)\n",
    "# cross_val_score(xgb_classifier, X_val_final, y_val_final, cv=3, scoring=\"accuracy\").mean()"
   ]
  },
  {
   "cell_type": "code",
   "execution_count": 28,
   "id": "99890f1e",
   "metadata": {
    "execution": {
     "iopub.execute_input": "2021-09-29T20:02:35.055259Z",
     "iopub.status.busy": "2021-09-29T20:02:35.054095Z",
     "iopub.status.idle": "2021-09-29T20:02:35.057171Z",
     "shell.execute_reply": "2021-09-29T20:02:35.057676Z",
     "shell.execute_reply.started": "2021-09-20T00:35:25.652357Z"
    },
    "papermill": {
     "duration": 0.071498,
     "end_time": "2021-09-29T20:02:35.057835",
     "exception": false,
     "start_time": "2021-09-29T20:02:34.986337",
     "status": "completed"
    },
    "tags": []
   },
   "outputs": [],
   "source": [
    "# xg_model = XGBClassifier(base_score=0.5, booster='gbtree', colsample_bylevel=1,\n",
    "#               colsample_bynode=1, colsample_bytree=0.6, gamma=2, gpu_id=-1,\n",
    "#               importance_type='gain', interaction_constraints='',\n",
    "#               learning_rate=0.05, max_delta_step=0, max_depth=6,\n",
    "#               min_child_weight=1, missing=nan, monotone_constraints='()',\n",
    "#               n_estimators=100, n_jobs=8, num_parallel_tree=1,\n",
    "#               objective='mlogloss', random_state=42, reg_alpha=0,\n",
    "#               reg_lambda=1, scale_pos_weight=None, subsample=1.0,\n",
    "#               tree_method='exact', validate_parameters=1, verbosity=None,use_label_encoder=False)\n",
    "\n",
    "# # xg_model.fit(X_train_final, y_train_final)\n"
   ]
  },
  {
   "cell_type": "code",
   "execution_count": 29,
   "id": "fadd41ca",
   "metadata": {
    "execution": {
     "iopub.execute_input": "2021-09-29T20:02:35.189373Z",
     "iopub.status.busy": "2021-09-29T20:02:35.188598Z",
     "iopub.status.idle": "2021-09-29T20:02:35.193746Z",
     "shell.execute_reply": "2021-09-29T20:02:35.193172Z",
     "shell.execute_reply.started": "2021-09-20T00:35:25.660329Z"
    },
    "papermill": {
     "duration": 0.072446,
     "end_time": "2021-09-29T20:02:35.193876",
     "exception": false,
     "start_time": "2021-09-29T20:02:35.121430",
     "status": "completed"
    },
    "tags": []
   },
   "outputs": [],
   "source": [
    "# cross_val_score(xg_model, X_val_final, y_val_final, cv=3, scoring=\"accuracy\")"
   ]
  },
  {
   "cell_type": "code",
   "execution_count": null,
   "id": "996bcae5",
   "metadata": {
    "execution": {
     "iopub.execute_input": "2021-09-20T00:35:25.669259Z",
     "iopub.status.busy": "2021-09-20T00:35:25.668704Z",
     "iopub.status.idle": "2021-09-20T00:35:25.675051Z",
     "shell.execute_reply": "2021-09-20T00:35:25.674178Z",
     "shell.execute_reply.started": "2021-09-20T00:35:25.669225Z"
    },
    "papermill": {
     "duration": 0.061583,
     "end_time": "2021-09-29T20:02:35.319383",
     "exception": false,
     "start_time": "2021-09-29T20:02:35.257800",
     "status": "completed"
    },
    "tags": []
   },
   "outputs": [],
   "source": [
    "\n"
   ]
  },
  {
   "cell_type": "code",
   "execution_count": 30,
   "id": "e5d3846b",
   "metadata": {
    "execution": {
     "iopub.execute_input": "2021-09-29T20:02:35.448944Z",
     "iopub.status.busy": "2021-09-29T20:02:35.447942Z",
     "iopub.status.idle": "2021-09-29T20:02:35.451341Z",
     "shell.execute_reply": "2021-09-29T20:02:35.450682Z",
     "shell.execute_reply.started": "2021-09-20T00:35:25.677489Z"
    },
    "papermill": {
     "duration": 0.07009,
     "end_time": "2021-09-29T20:02:35.451574",
     "exception": false,
     "start_time": "2021-09-29T20:02:35.381484",
     "status": "completed"
    },
    "tags": []
   },
   "outputs": [],
   "source": [
    "# param_grid = {'C': [100,120,130,140, 150,160,170,180,190,200], 'gamma': [0.01,0.001,.0001,.0008]}\n",
    "# grid = GridSearchCV(SVC(),param_grid,refit=True,verbose=2)\n",
    "# grid.fit(X_train_final, y_train_final)\n"
   ]
  },
  {
   "cell_type": "code",
   "execution_count": 31,
   "id": "bbe68c0d",
   "metadata": {
    "execution": {
     "iopub.execute_input": "2021-09-29T20:02:35.583605Z",
     "iopub.status.busy": "2021-09-29T20:02:35.582538Z",
     "iopub.status.idle": "2021-09-29T20:02:35.585986Z",
     "shell.execute_reply": "2021-09-29T20:02:35.585479Z",
     "shell.execute_reply.started": "2021-09-20T00:35:25.691554Z"
    },
    "papermill": {
     "duration": 0.071343,
     "end_time": "2021-09-29T20:02:35.586131",
     "exception": false,
     "start_time": "2021-09-29T20:02:35.514788",
     "status": "completed"
    },
    "tags": []
   },
   "outputs": [],
   "source": [
    "# print(grid.best_estimator_)"
   ]
  },
  {
   "cell_type": "code",
   "execution_count": 32,
   "id": "e7256c22",
   "metadata": {
    "execution": {
     "iopub.execute_input": "2021-09-29T20:02:35.715096Z",
     "iopub.status.busy": "2021-09-29T20:02:35.714078Z",
     "iopub.status.idle": "2021-09-29T20:02:35.717938Z",
     "shell.execute_reply": "2021-09-29T20:02:35.717443Z",
     "shell.execute_reply.started": "2021-09-20T00:35:25.698589Z"
    },
    "papermill": {
     "duration": 0.068254,
     "end_time": "2021-09-29T20:02:35.718086",
     "exception": false,
     "start_time": "2021-09-29T20:02:35.649832",
     "status": "completed"
    },
    "tags": []
   },
   "outputs": [],
   "source": [
    "# rbf = SVC(kernel='rbf', gamma=0.001, C=100).fit(X_train_final2, y_total_final2)\n",
    "# poly = SVC(kernel='poly', degree=3, C=100).fit(X_train_final, y_train_final)\n",
    "\n",
    "# print(cross_val_score(rbf, X_val_final, y_val_final, cv=3, scoring=\"accuracy\"))\n",
    "# print(cross_val_score(poly, X_val_final, y_val_final, cv=3, scoring=\"accuracy\"))"
   ]
  },
  {
   "cell_type": "code",
   "execution_count": 33,
   "id": "77eaf3af",
   "metadata": {
    "execution": {
     "iopub.execute_input": "2021-09-29T20:02:35.943026Z",
     "iopub.status.busy": "2021-09-29T20:02:35.941958Z",
     "iopub.status.idle": "2021-09-29T20:02:35.947966Z",
     "shell.execute_reply": "2021-09-29T20:02:35.948748Z",
     "shell.execute_reply.started": "2021-09-20T00:35:25.706916Z"
    },
    "papermill": {
     "duration": 0.144653,
     "end_time": "2021-09-29T20:02:35.948966",
     "exception": false,
     "start_time": "2021-09-29T20:02:35.804313",
     "status": "completed"
    },
    "tags": []
   },
   "outputs": [],
   "source": [
    "# svm_clf.fit(X_train_final, y_train_final)"
   ]
  },
  {
   "cell_type": "code",
   "execution_count": 34,
   "id": "1eb4526b",
   "metadata": {
    "execution": {
     "iopub.execute_input": "2021-09-29T20:02:36.214751Z",
     "iopub.status.busy": "2021-09-29T20:02:36.213773Z",
     "iopub.status.idle": "2021-09-29T20:02:36.216667Z",
     "shell.execute_reply": "2021-09-29T20:02:36.215728Z",
     "shell.execute_reply.started": "2021-09-20T00:35:25.716079Z"
    },
    "papermill": {
     "duration": 0.126479,
     "end_time": "2021-09-29T20:02:36.216844",
     "exception": false,
     "start_time": "2021-09-29T20:02:36.090365",
     "status": "completed"
    },
    "tags": []
   },
   "outputs": [],
   "source": [
    "# cross_val_score(svm_clf, X_val_final, y_val_final, cv=3, scoring=\"accuracy\")\n",
    "\n",
    "#array([0.92986342, 0.92654116, 0.92282127])  .75\n",
    "\n",
    "#array([0.92081949, 0.92912514, 0.92520776])  .5\n",
    "\n",
    "# array([0.93401015, 0.91785879, 0.92293493]) .6\n",
    "\n",
    "# array([0.92009494, 0.92721519, 0.93275316]) .7   yes \n",
    "\n",
    "# array([0.92049051, 0.92919304, 0.93393987]) c = 150\n",
    "\n",
    "# array([0.9244462 , 0.92761076, 0.93235759]) .7 yes  C=180, gamma=0.01 yes"
   ]
  },
  {
   "cell_type": "code",
   "execution_count": 35,
   "id": "70f44b03",
   "metadata": {
    "execution": {
     "iopub.execute_input": "2021-09-29T20:02:36.440344Z",
     "iopub.status.busy": "2021-09-29T20:02:36.439557Z",
     "iopub.status.idle": "2021-09-29T20:02:38.985300Z",
     "shell.execute_reply": "2021-09-29T20:02:38.984441Z",
     "shell.execute_reply.started": "2021-09-20T00:35:25.723297Z"
    },
    "papermill": {
     "duration": 2.642159,
     "end_time": "2021-09-29T20:02:38.985469",
     "exception": false,
     "start_time": "2021-09-29T20:02:36.343310",
     "status": "completed"
    },
    "tags": []
   },
   "outputs": [],
   "source": [
    "### Building the Model\n",
    "\n",
    "model = Sequential()\n",
    "model.add(Dense(16, activation='relu', input_dim=16))\n",
    "\n",
    "\n",
    "model.add(Dense(512, activation='relu'))\n",
    "model.add(Dense(256, activation='relu'))\n",
    "model.add(Dense(128, activation='relu'))\n",
    "model.add(Dense(64, activation='relu'))\n",
    "\n",
    "\n",
    "model.add(Dense(7, activation='softmax'))"
   ]
  },
  {
   "cell_type": "code",
   "execution_count": 36,
   "id": "0f34a257",
   "metadata": {
    "execution": {
     "iopub.execute_input": "2021-09-29T20:02:39.123162Z",
     "iopub.status.busy": "2021-09-29T20:02:39.122501Z",
     "iopub.status.idle": "2021-09-29T20:02:39.127415Z",
     "shell.execute_reply": "2021-09-29T20:02:39.126799Z",
     "shell.execute_reply.started": "2021-09-20T00:35:26.690514Z"
    },
    "papermill": {
     "duration": 0.075032,
     "end_time": "2021-09-29T20:02:39.127559",
     "exception": false,
     "start_time": "2021-09-29T20:02:39.052527",
     "status": "completed"
    },
    "tags": []
   },
   "outputs": [],
   "source": [
    "# model = Sequential()\n",
    "# model.add(Dense(128, input_dim = 16 , activation = 'relu'))\n",
    "# model.add(Dense(60, activation = 'relu'))\n",
    "# model.add(Dense(50, activation = 'relu'))\n",
    "# model.add(Dense(40, activation = 'relu'))\n",
    "# model.add(Dense(30, activation = 'relu'))\n",
    "# model.add(Dense(7, activation = 'softmax'))\n"
   ]
  },
  {
   "cell_type": "code",
   "execution_count": 37,
   "id": "ce729f18",
   "metadata": {
    "execution": {
     "iopub.execute_input": "2021-09-29T20:02:39.270915Z",
     "iopub.status.busy": "2021-09-29T20:02:39.269970Z",
     "iopub.status.idle": "2021-09-29T20:02:39.279426Z",
     "shell.execute_reply": "2021-09-29T20:02:39.278772Z",
     "shell.execute_reply.started": "2021-09-20T00:35:26.697245Z"
    },
    "papermill": {
     "duration": 0.087035,
     "end_time": "2021-09-29T20:02:39.279602",
     "exception": false,
     "start_time": "2021-09-29T20:02:39.192567",
     "status": "completed"
    },
    "tags": []
   },
   "outputs": [],
   "source": [
    "model.compile(optimizer='adam', \n",
    "              loss='categorical_crossentropy', \n",
    "              metrics=['accuracy'])"
   ]
  },
  {
   "cell_type": "code",
   "execution_count": 38,
   "id": "14f5904e",
   "metadata": {
    "execution": {
     "iopub.execute_input": "2021-09-29T20:02:39.424552Z",
     "iopub.status.busy": "2021-09-29T20:02:39.423473Z",
     "iopub.status.idle": "2021-09-29T20:02:39.427317Z",
     "shell.execute_reply": "2021-09-29T20:02:39.426657Z",
     "shell.execute_reply.started": "2021-09-20T00:35:26.720584Z"
    },
    "papermill": {
     "duration": 0.080082,
     "end_time": "2021-09-29T20:02:39.427465",
     "exception": false,
     "start_time": "2021-09-29T20:02:39.347383",
     "status": "completed"
    },
    "tags": []
   },
   "outputs": [],
   "source": [
    "early_stopp = EarlyStopping(patience=7, restore_best_weights=True, monitor='loss')"
   ]
  },
  {
   "cell_type": "code",
   "execution_count": 39,
   "id": "67096c07",
   "metadata": {
    "execution": {
     "iopub.execute_input": "2021-09-29T20:02:39.564073Z",
     "iopub.status.busy": "2021-09-29T20:02:39.562936Z",
     "iopub.status.idle": "2021-09-29T20:02:39.566276Z",
     "shell.execute_reply": "2021-09-29T20:02:39.565732Z",
     "shell.execute_reply.started": "2021-09-20T00:35:27.733899Z"
    },
    "papermill": {
     "duration": 0.073386,
     "end_time": "2021-09-29T20:02:39.566416",
     "exception": false,
     "start_time": "2021-09-29T20:02:39.493030",
     "status": "completed"
    },
    "tags": []
   },
   "outputs": [],
   "source": [
    "# history = model.fit(X_train_final, dummy_y, epochs=100, \n",
    "#                     validation_data=(X_val_final, dummy_valy),batch_size=128, callbacks=[early_stopp])\n",
    "\n",
    "# history = model.fit(X_train_final2, dummy_y_total, epochs=200,batch_size=128,callbacks=[early_stopp],validation_split=.2)"
   ]
  },
  {
   "cell_type": "code",
   "execution_count": 40,
   "id": "9175ee8c",
   "metadata": {
    "execution": {
     "iopub.execute_input": "2021-09-29T20:02:39.703302Z",
     "iopub.status.busy": "2021-09-29T20:02:39.702247Z",
     "iopub.status.idle": "2021-09-29T20:02:39.705944Z",
     "shell.execute_reply": "2021-09-29T20:02:39.705367Z",
     "shell.execute_reply.started": "2021-09-20T00:35:28.184515Z"
    },
    "papermill": {
     "duration": 0.073539,
     "end_time": "2021-09-29T20:02:39.706088",
     "exception": false,
     "start_time": "2021-09-29T20:02:39.632549",
     "status": "completed"
    },
    "tags": []
   },
   "outputs": [],
   "source": [
    "# model.evaluate(X_val_final, dummy_valy)"
   ]
  },
  {
   "cell_type": "code",
   "execution_count": 41,
   "id": "b5cebc6c",
   "metadata": {
    "execution": {
     "iopub.execute_input": "2021-09-29T20:02:39.840804Z",
     "iopub.status.busy": "2021-09-29T20:02:39.839744Z",
     "iopub.status.idle": "2021-09-29T20:02:39.843551Z",
     "shell.execute_reply": "2021-09-29T20:02:39.843034Z",
     "shell.execute_reply.started": "2021-09-20T00:35:28.425412Z"
    },
    "papermill": {
     "duration": 0.071751,
     "end_time": "2021-09-29T20:02:39.843697",
     "exception": false,
     "start_time": "2021-09-29T20:02:39.771946",
     "status": "completed"
    },
    "tags": []
   },
   "outputs": [],
   "source": [
    "# ### extract results from history\n",
    "\n",
    "\n",
    "# train_loss = history.history['loss']\n",
    "# train_acc = history.history['accuracy']\n",
    "\n",
    "# val_loss = history.history['val_loss']\n",
    "# val_acc = history.history['val_accuracy']\n",
    "# epochs = range(1, len(train_loss)+1)"
   ]
  },
  {
   "cell_type": "code",
   "execution_count": 42,
   "id": "858f3752",
   "metadata": {
    "execution": {
     "iopub.execute_input": "2021-09-29T20:02:39.981018Z",
     "iopub.status.busy": "2021-09-29T20:02:39.979928Z",
     "iopub.status.idle": "2021-09-29T20:02:39.983572Z",
     "shell.execute_reply": "2021-09-29T20:02:39.983024Z",
     "shell.execute_reply.started": "2021-09-20T00:35:28.625336Z"
    },
    "papermill": {
     "duration": 0.075847,
     "end_time": "2021-09-29T20:02:39.983714",
     "exception": false,
     "start_time": "2021-09-29T20:02:39.907867",
     "status": "completed"
    },
    "tags": []
   },
   "outputs": [],
   "source": [
    "# ### get some results and Visualization from history\n",
    "# fig, ax = plt.subplots(1, 2, figsize=(12, 6))\n",
    "# fig.tight_layout(pad=4)  ## to avoid overlaping of titles in subplots (try comment it you will know)\n",
    "\n",
    "# plt.sca(ax[0])\n",
    "# plt.plot(epochs, train_loss, 'bo-', label='training')\n",
    "# plt.plot(epochs, val_loss, 'go--', label='validating')\n",
    "# plt.xlabel('epochs')\n",
    "# plt.ylabel('losses')\n",
    "# plt.title('Training& ValidatingLoss')\n",
    "# plt.legend()\n",
    "\n",
    "# plt.sca(ax[1])\n",
    "# plt.plot(epochs, train_acc, 'bo-', label='training')\n",
    "# plt.plot(epochs, val_acc, 'go--', label='validating')\n",
    "# plt.xlabel('epochs')\n",
    "# plt.ylabel('accuracy')\n",
    "# plt.title('Training & Validating Accuracy')\n",
    "\n",
    "# plt.legend(loc='lower right')\n",
    "# plt.show()"
   ]
  },
  {
   "cell_type": "markdown",
   "id": "1638944a",
   "metadata": {
    "papermill": {
     "duration": 0.063809,
     "end_time": "2021-09-29T20:02:40.116236",
     "exception": false,
     "start_time": "2021-09-29T20:02:40.052427",
     "status": "completed"
    },
    "tags": []
   },
   "source": [
    "## Evaluating on Test Data"
   ]
  },
  {
   "cell_type": "code",
   "execution_count": 43,
   "id": "2e820872",
   "metadata": {
    "execution": {
     "iopub.execute_input": "2021-09-29T20:02:40.250896Z",
     "iopub.status.busy": "2021-09-29T20:02:40.250183Z",
     "iopub.status.idle": "2021-09-29T20:02:40.320352Z",
     "shell.execute_reply": "2021-09-29T20:02:40.319810Z",
     "shell.execute_reply.started": "2021-09-20T00:35:29.067361Z"
    },
    "papermill": {
     "duration": 0.139061,
     "end_time": "2021-09-29T20:02:40.320496",
     "exception": false,
     "start_time": "2021-09-29T20:02:40.181435",
     "status": "completed"
    },
    "tags": []
   },
   "outputs": [
    {
     "data": {
      "text/html": [
       "<div>\n",
       "<style scoped>\n",
       "    .dataframe tbody tr th:only-of-type {\n",
       "        vertical-align: middle;\n",
       "    }\n",
       "\n",
       "    .dataframe tbody tr th {\n",
       "        vertical-align: top;\n",
       "    }\n",
       "\n",
       "    .dataframe thead th {\n",
       "        text-align: right;\n",
       "    }\n",
       "</style>\n",
       "<table border=\"1\" class=\"dataframe\">\n",
       "  <thead>\n",
       "    <tr style=\"text-align: right;\">\n",
       "      <th></th>\n",
       "      <th>ID</th>\n",
       "      <th>Area</th>\n",
       "      <th>Perimeter</th>\n",
       "      <th>MajorAxisLength</th>\n",
       "      <th>MinorAxisLength</th>\n",
       "      <th>AspectRation</th>\n",
       "      <th>Eccentricity</th>\n",
       "      <th>ConvexArea</th>\n",
       "      <th>EquivDiameter</th>\n",
       "      <th>Extent</th>\n",
       "      <th>Solidity</th>\n",
       "      <th>roundness</th>\n",
       "      <th>Compactness</th>\n",
       "      <th>ShapeFactor1</th>\n",
       "      <th>ShapeFactor2</th>\n",
       "      <th>ShapeFactor3</th>\n",
       "      <th>ShapeFactor4</th>\n",
       "    </tr>\n",
       "  </thead>\n",
       "  <tbody>\n",
       "    <tr>\n",
       "      <th>0</th>\n",
       "      <td>10834</td>\n",
       "      <td>57659</td>\n",
       "      <td>955.434</td>\n",
       "      <td>387.757607</td>\n",
       "      <td>196.625782</td>\n",
       "      <td>1.972059</td>\n",
       "      <td>0.861896</td>\n",
       "      <td>60188</td>\n",
       "      <td>270.949661</td>\n",
       "      <td>0.620790</td>\n",
       "      <td>0.957982</td>\n",
       "      <td>0.793735</td>\n",
       "      <td>0.698760</td>\n",
       "      <td>0.006725</td>\n",
       "      <td>0.000989</td>\n",
       "      <td>0.488266</td>\n",
       "      <td>0.962889</td>\n",
       "    </tr>\n",
       "    <tr>\n",
       "      <th>1</th>\n",
       "      <td>10835</td>\n",
       "      <td>28772</td>\n",
       "      <td>630.362</td>\n",
       "      <td>229.990785</td>\n",
       "      <td>159.609367</td>\n",
       "      <td>1.440960</td>\n",
       "      <td>0.719993</td>\n",
       "      <td>29127</td>\n",
       "      <td>191.399185</td>\n",
       "      <td>0.767458</td>\n",
       "      <td>0.987812</td>\n",
       "      <td>0.909913</td>\n",
       "      <td>0.832204</td>\n",
       "      <td>0.007994</td>\n",
       "      <td>0.002365</td>\n",
       "      <td>0.692563</td>\n",
       "      <td>0.997956</td>\n",
       "    </tr>\n",
       "    <tr>\n",
       "      <th>2</th>\n",
       "      <td>10836</td>\n",
       "      <td>54677</td>\n",
       "      <td>911.022</td>\n",
       "      <td>308.853903</td>\n",
       "      <td>226.398571</td>\n",
       "      <td>1.364204</td>\n",
       "      <td>0.680198</td>\n",
       "      <td>55858</td>\n",
       "      <td>263.850182</td>\n",
       "      <td>0.753013</td>\n",
       "      <td>0.978857</td>\n",
       "      <td>0.827860</td>\n",
       "      <td>0.854288</td>\n",
       "      <td>0.005649</td>\n",
       "      <td>0.001856</td>\n",
       "      <td>0.729808</td>\n",
       "      <td>0.995607</td>\n",
       "    </tr>\n",
       "    <tr>\n",
       "      <th>3</th>\n",
       "      <td>10837</td>\n",
       "      <td>24827</td>\n",
       "      <td>578.304</td>\n",
       "      <td>214.192699</td>\n",
       "      <td>147.788172</td>\n",
       "      <td>1.449322</td>\n",
       "      <td>0.723831</td>\n",
       "      <td>25121</td>\n",
       "      <td>177.794033</td>\n",
       "      <td>0.716508</td>\n",
       "      <td>0.988297</td>\n",
       "      <td>0.932871</td>\n",
       "      <td>0.830066</td>\n",
       "      <td>0.008627</td>\n",
       "      <td>0.002526</td>\n",
       "      <td>0.689009</td>\n",
       "      <td>0.998596</td>\n",
       "    </tr>\n",
       "    <tr>\n",
       "      <th>4</th>\n",
       "      <td>10838</td>\n",
       "      <td>141850</td>\n",
       "      <td>1432.847</td>\n",
       "      <td>524.923471</td>\n",
       "      <td>346.910920</td>\n",
       "      <td>1.513136</td>\n",
       "      <td>0.750492</td>\n",
       "      <td>143680</td>\n",
       "      <td>424.981211</td>\n",
       "      <td>0.804617</td>\n",
       "      <td>0.987263</td>\n",
       "      <td>0.868240</td>\n",
       "      <td>0.809606</td>\n",
       "      <td>0.003701</td>\n",
       "      <td>0.000981</td>\n",
       "      <td>0.655462</td>\n",
       "      <td>0.991803</td>\n",
       "    </tr>\n",
       "  </tbody>\n",
       "</table>\n",
       "</div>"
      ],
      "text/plain": [
       "      ID    Area  Perimeter  MajorAxisLength  MinorAxisLength  AspectRation  \\\n",
       "0  10834   57659    955.434       387.757607       196.625782      1.972059   \n",
       "1  10835   28772    630.362       229.990785       159.609367      1.440960   \n",
       "2  10836   54677    911.022       308.853903       226.398571      1.364204   \n",
       "3  10837   24827    578.304       214.192699       147.788172      1.449322   \n",
       "4  10838  141850   1432.847       524.923471       346.910920      1.513136   \n",
       "\n",
       "   Eccentricity  ConvexArea  EquivDiameter    Extent  Solidity  roundness  \\\n",
       "0      0.861896       60188     270.949661  0.620790  0.957982   0.793735   \n",
       "1      0.719993       29127     191.399185  0.767458  0.987812   0.909913   \n",
       "2      0.680198       55858     263.850182  0.753013  0.978857   0.827860   \n",
       "3      0.723831       25121     177.794033  0.716508  0.988297   0.932871   \n",
       "4      0.750492      143680     424.981211  0.804617  0.987263   0.868240   \n",
       "\n",
       "   Compactness  ShapeFactor1  ShapeFactor2  ShapeFactor3  ShapeFactor4  \n",
       "0     0.698760      0.006725      0.000989      0.488266      0.962889  \n",
       "1     0.832204      0.007994      0.002365      0.692563      0.997956  \n",
       "2     0.854288      0.005649      0.001856      0.729808      0.995607  \n",
       "3     0.830066      0.008627      0.002526      0.689009      0.998596  \n",
       "4     0.809606      0.003701      0.000981      0.655462      0.991803  "
      ]
     },
     "execution_count": 43,
     "metadata": {},
     "output_type": "execute_result"
    }
   ],
   "source": [
    "test_data = pd.read_csv('../input/dry-beans-classification-iti-ai-pro-intake01/test.csv')\n",
    "test_data.head()"
   ]
  },
  {
   "cell_type": "markdown",
   "id": "6935887f",
   "metadata": {
    "papermill": {
     "duration": 0.065532,
     "end_time": "2021-09-29T20:02:40.451694",
     "exception": false,
     "start_time": "2021-09-29T20:02:40.386162",
     "status": "completed"
    },
    "tags": []
   },
   "source": []
  },
  {
   "cell_type": "code",
   "execution_count": 44,
   "id": "b3b90bab",
   "metadata": {
    "execution": {
     "iopub.execute_input": "2021-09-29T20:02:40.594129Z",
     "iopub.status.busy": "2021-09-29T20:02:40.593106Z",
     "iopub.status.idle": "2021-09-29T20:02:40.597792Z",
     "shell.execute_reply": "2021-09-29T20:02:40.597264Z",
     "shell.execute_reply.started": "2021-09-20T00:35:29.472498Z"
    },
    "papermill": {
     "duration": 0.080432,
     "end_time": "2021-09-29T20:02:40.597926",
     "exception": false,
     "start_time": "2021-09-29T20:02:40.517494",
     "status": "completed"
    },
    "tags": []
   },
   "outputs": [],
   "source": [
    "X_test = test_data.drop(columns=['ID'], axis=1)\n",
    "\n",
    "\n",
    "X_test_final = num_pipeline_deep.transform(X_test)\n",
    "X_test_final = pd.DataFrame(X_test_final)"
   ]
  },
  {
   "cell_type": "code",
   "execution_count": 45,
   "id": "d2c3c9f4",
   "metadata": {
    "execution": {
     "iopub.execute_input": "2021-09-29T20:02:40.734995Z",
     "iopub.status.busy": "2021-09-29T20:02:40.733995Z",
     "iopub.status.idle": "2021-09-29T20:02:40.957248Z",
     "shell.execute_reply": "2021-09-29T20:02:40.957753Z",
     "shell.execute_reply.started": "2021-09-20T00:35:29.714435Z"
    },
    "papermill": {
     "duration": 0.294522,
     "end_time": "2021-09-29T20:02:40.957922",
     "exception": false,
     "start_time": "2021-09-29T20:02:40.663400",
     "status": "completed"
    },
    "tags": []
   },
   "outputs": [
    {
     "data": {
      "text/plain": [
       "array([4, 3, 0, ..., 4, 3, 6])"
      ]
     },
     "execution_count": 45,
     "metadata": {},
     "output_type": "execute_result"
    }
   ],
   "source": [
    "nums_predictions = voting_clf.predict(X_test_final)\n",
    "nums_predictions"
   ]
  },
  {
   "cell_type": "code",
   "execution_count": 46,
   "id": "d44d1aa5",
   "metadata": {
    "execution": {
     "iopub.execute_input": "2021-09-29T20:02:41.096892Z",
     "iopub.status.busy": "2021-09-29T20:02:41.094844Z",
     "iopub.status.idle": "2021-09-29T20:02:41.102487Z",
     "shell.execute_reply": "2021-09-29T20:02:41.101914Z",
     "shell.execute_reply.started": "2021-09-20T00:35:30.347752Z"
    },
    "papermill": {
     "duration": 0.078236,
     "end_time": "2021-09-29T20:02:41.102693",
     "exception": false,
     "start_time": "2021-09-29T20:02:41.024457",
     "status": "completed"
    },
    "tags": []
   },
   "outputs": [
    {
     "data": {
      "text/plain": [
       "array(['HOROZ', 'DERMASON', 'BARBUNYA', ..., 'HOROZ', 'DERMASON', 'SIRA'],\n",
       "      dtype=object)"
      ]
     },
     "execution_count": 46,
     "metadata": {},
     "output_type": "execute_result"
    }
   ],
   "source": [
    "y_names_predictions = encoder_deep.inverse_transform(nums_predictions)\n",
    "y_names_predictions"
   ]
  },
  {
   "cell_type": "code",
   "execution_count": 47,
   "id": "09c1b8ee",
   "metadata": {
    "execution": {
     "iopub.execute_input": "2021-09-29T20:02:41.252013Z",
     "iopub.status.busy": "2021-09-29T20:02:41.250996Z",
     "iopub.status.idle": "2021-09-29T20:02:41.257573Z",
     "shell.execute_reply": "2021-09-29T20:02:41.256984Z",
     "shell.execute_reply.started": "2021-09-20T00:35:31.134792Z"
    },
    "papermill": {
     "duration": 0.088609,
     "end_time": "2021-09-29T20:02:41.257713",
     "exception": false,
     "start_time": "2021-09-29T20:02:41.169104",
     "status": "completed"
    },
    "tags": []
   },
   "outputs": [
    {
     "data": {
      "text/html": [
       "<div>\n",
       "<style scoped>\n",
       "    .dataframe tbody tr th:only-of-type {\n",
       "        vertical-align: middle;\n",
       "    }\n",
       "\n",
       "    .dataframe tbody tr th {\n",
       "        vertical-align: top;\n",
       "    }\n",
       "\n",
       "    .dataframe thead th {\n",
       "        text-align: right;\n",
       "    }\n",
       "</style>\n",
       "<table border=\"1\" class=\"dataframe\">\n",
       "  <thead>\n",
       "    <tr style=\"text-align: right;\">\n",
       "      <th></th>\n",
       "      <th>ID</th>\n",
       "      <th>y</th>\n",
       "    </tr>\n",
       "  </thead>\n",
       "  <tbody>\n",
       "    <tr>\n",
       "      <th>0</th>\n",
       "      <td>10834</td>\n",
       "      <td>HOROZ</td>\n",
       "    </tr>\n",
       "    <tr>\n",
       "      <th>1</th>\n",
       "      <td>10835</td>\n",
       "      <td>DERMASON</td>\n",
       "    </tr>\n",
       "    <tr>\n",
       "      <th>2</th>\n",
       "      <td>10836</td>\n",
       "      <td>BARBUNYA</td>\n",
       "    </tr>\n",
       "    <tr>\n",
       "      <th>3</th>\n",
       "      <td>10837</td>\n",
       "      <td>DERMASON</td>\n",
       "    </tr>\n",
       "    <tr>\n",
       "      <th>4</th>\n",
       "      <td>10838</td>\n",
       "      <td>BOMBAY</td>\n",
       "    </tr>\n",
       "    <tr>\n",
       "      <th>...</th>\n",
       "      <td>...</td>\n",
       "      <td>...</td>\n",
       "    </tr>\n",
       "    <tr>\n",
       "      <th>2704</th>\n",
       "      <td>13538</td>\n",
       "      <td>CALI</td>\n",
       "    </tr>\n",
       "    <tr>\n",
       "      <th>2705</th>\n",
       "      <td>13539</td>\n",
       "      <td>SEKER</td>\n",
       "    </tr>\n",
       "    <tr>\n",
       "      <th>2706</th>\n",
       "      <td>13540</td>\n",
       "      <td>HOROZ</td>\n",
       "    </tr>\n",
       "    <tr>\n",
       "      <th>2707</th>\n",
       "      <td>13541</td>\n",
       "      <td>DERMASON</td>\n",
       "    </tr>\n",
       "    <tr>\n",
       "      <th>2708</th>\n",
       "      <td>13542</td>\n",
       "      <td>SIRA</td>\n",
       "    </tr>\n",
       "  </tbody>\n",
       "</table>\n",
       "<p>2709 rows × 2 columns</p>\n",
       "</div>"
      ],
      "text/plain": [
       "         ID         y\n",
       "0     10834     HOROZ\n",
       "1     10835  DERMASON\n",
       "2     10836  BARBUNYA\n",
       "3     10837  DERMASON\n",
       "4     10838    BOMBAY\n",
       "...     ...       ...\n",
       "2704  13538      CALI\n",
       "2705  13539     SEKER\n",
       "2706  13540     HOROZ\n",
       "2707  13541  DERMASON\n",
       "2708  13542      SIRA\n",
       "\n",
       "[2709 rows x 2 columns]"
      ]
     },
     "execution_count": 47,
     "metadata": {},
     "output_type": "execute_result"
    }
   ],
   "source": [
    "test_data['y'] = y_names_predictions\n",
    "\n",
    "test_data[['ID', 'y']]"
   ]
  },
  {
   "cell_type": "code",
   "execution_count": 48,
   "id": "b5c3afe0",
   "metadata": {
    "execution": {
     "iopub.execute_input": "2021-09-29T20:02:41.400354Z",
     "iopub.status.busy": "2021-09-29T20:02:41.399379Z",
     "iopub.status.idle": "2021-09-29T20:02:41.411718Z",
     "shell.execute_reply": "2021-09-29T20:02:41.411123Z",
     "shell.execute_reply.started": "2021-09-20T00:35:31.740298Z"
    },
    "papermill": {
     "duration": 0.086335,
     "end_time": "2021-09-29T20:02:41.411868",
     "exception": false,
     "start_time": "2021-09-29T20:02:41.325533",
     "status": "completed"
    },
    "tags": []
   },
   "outputs": [],
   "source": [
    "test_data[['ID', 'y']].to_csv('/kaggle/working/submission.csv', index=False)"
   ]
  },
  {
   "cell_type": "code",
   "execution_count": null,
   "id": "c5976427",
   "metadata": {
    "papermill": {
     "duration": 0.067258,
     "end_time": "2021-09-29T20:02:41.546708",
     "exception": false,
     "start_time": "2021-09-29T20:02:41.479450",
     "status": "completed"
    },
    "tags": []
   },
   "outputs": [],
   "source": []
  },
  {
   "cell_type": "code",
   "execution_count": null,
   "id": "aef6b3fd",
   "metadata": {
    "papermill": {
     "duration": 0.067323,
     "end_time": "2021-09-29T20:02:41.681417",
     "exception": false,
     "start_time": "2021-09-29T20:02:41.614094",
     "status": "completed"
    },
    "tags": []
   },
   "outputs": [],
   "source": []
  },
  {
   "cell_type": "code",
   "execution_count": null,
   "id": "8039924a",
   "metadata": {
    "papermill": {
     "duration": 0.068257,
     "end_time": "2021-09-29T20:02:41.815673",
     "exception": false,
     "start_time": "2021-09-29T20:02:41.747416",
     "status": "completed"
    },
    "tags": []
   },
   "outputs": [],
   "source": []
  },
  {
   "cell_type": "code",
   "execution_count": null,
   "id": "1daca9a9",
   "metadata": {
    "papermill": {
     "duration": 0.066946,
     "end_time": "2021-09-29T20:02:41.948907",
     "exception": false,
     "start_time": "2021-09-29T20:02:41.881961",
     "status": "completed"
    },
    "tags": []
   },
   "outputs": [],
   "source": []
  },
  {
   "cell_type": "code",
   "execution_count": null,
   "id": "7285c68c",
   "metadata": {
    "papermill": {
     "duration": 0.068185,
     "end_time": "2021-09-29T20:02:42.084365",
     "exception": false,
     "start_time": "2021-09-29T20:02:42.016180",
     "status": "completed"
    },
    "tags": []
   },
   "outputs": [],
   "source": []
  },
  {
   "cell_type": "code",
   "execution_count": null,
   "id": "43629935",
   "metadata": {
    "papermill": {
     "duration": 0.067717,
     "end_time": "2021-09-29T20:02:42.220639",
     "exception": false,
     "start_time": "2021-09-29T20:02:42.152922",
     "status": "completed"
    },
    "tags": []
   },
   "outputs": [],
   "source": []
  },
  {
   "cell_type": "code",
   "execution_count": null,
   "id": "9aca3daa",
   "metadata": {
    "papermill": {
     "duration": 0.067583,
     "end_time": "2021-09-29T20:02:42.355460",
     "exception": false,
     "start_time": "2021-09-29T20:02:42.287877",
     "status": "completed"
    },
    "tags": []
   },
   "outputs": [],
   "source": []
  },
  {
   "cell_type": "code",
   "execution_count": null,
   "id": "ed832cc7",
   "metadata": {
    "papermill": {
     "duration": 0.067172,
     "end_time": "2021-09-29T20:02:42.528474",
     "exception": false,
     "start_time": "2021-09-29T20:02:42.461302",
     "status": "completed"
    },
    "tags": []
   },
   "outputs": [],
   "source": []
  },
  {
   "cell_type": "code",
   "execution_count": null,
   "id": "46ffa067",
   "metadata": {
    "papermill": {
     "duration": 0.065458,
     "end_time": "2021-09-29T20:02:42.661172",
     "exception": false,
     "start_time": "2021-09-29T20:02:42.595714",
     "status": "completed"
    },
    "tags": []
   },
   "outputs": [],
   "source": []
  },
  {
   "cell_type": "code",
   "execution_count": null,
   "id": "d828932d",
   "metadata": {
    "papermill": {
     "duration": 0.065605,
     "end_time": "2021-09-29T20:02:42.791347",
     "exception": false,
     "start_time": "2021-09-29T20:02:42.725742",
     "status": "completed"
    },
    "tags": []
   },
   "outputs": [],
   "source": []
  },
  {
   "cell_type": "code",
   "execution_count": null,
   "id": "e51f58b1",
   "metadata": {
    "papermill": {
     "duration": 0.069699,
     "end_time": "2021-09-29T20:02:42.929086",
     "exception": false,
     "start_time": "2021-09-29T20:02:42.859387",
     "status": "completed"
    },
    "tags": []
   },
   "outputs": [],
   "source": []
  }
 ],
 "metadata": {
  "kernelspec": {
   "display_name": "Python 3",
   "language": "python",
   "name": "python3"
  },
  "language_info": {
   "codemirror_mode": {
    "name": "ipython",
    "version": 3
   },
   "file_extension": ".py",
   "mimetype": "text/x-python",
   "name": "python",
   "nbconvert_exporter": "python",
   "pygments_lexer": "ipython3",
   "version": "3.7.10"
  },
  "papermill": {
   "default_parameters": {},
   "duration": 194.902695,
   "end_time": "2021-09-29T20:02:45.035687",
   "environment_variables": {},
   "exception": null,
   "input_path": "__notebook__.ipynb",
   "output_path": "__notebook__.ipynb",
   "parameters": {},
   "start_time": "2021-09-29T19:59:30.132992",
   "version": "2.3.3"
  }
 },
 "nbformat": 4,
 "nbformat_minor": 5
}
